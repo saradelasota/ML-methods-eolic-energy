{
  "nbformat": 4,
  "nbformat_minor": 0,
  "metadata": {
    "colab": {
      "provenance": [],
      "collapsed_sections": [
        "1uL9Qg59ZW7r"
      ]
    },
    "kernelspec": {
      "name": "python3",
      "display_name": "Python 3"
    },
    "language_info": {
      "name": "python"
    }
  },
  "cells": [
    {
      "cell_type": "code",
      "source": [
        "#Imports\n",
        "!pip install pandas\n",
        "!pip install optuna\n",
        "import pandas as pd\n",
        "import matplotlib.pyplot as plt\n",
        "import seaborn as sns\n",
        "import numpy as np"
      ],
      "metadata": {
        "colab": {
          "base_uri": "https://localhost:8080/"
        },
        "id": "lkOgp3mUhsUv",
        "outputId": "de6a4daa-ca46-4ad1-d73f-266288341b6a"
      },
      "execution_count": 2,
      "outputs": [
        {
          "output_type": "stream",
          "name": "stdout",
          "text": [
            "Requirement already satisfied: pandas in /usr/local/lib/python3.10/dist-packages (1.5.3)\n",
            "Requirement already satisfied: python-dateutil>=2.8.1 in /usr/local/lib/python3.10/dist-packages (from pandas) (2.8.2)\n",
            "Requirement already satisfied: pytz>=2020.1 in /usr/local/lib/python3.10/dist-packages (from pandas) (2023.3.post1)\n",
            "Requirement already satisfied: numpy>=1.21.0 in /usr/local/lib/python3.10/dist-packages (from pandas) (1.23.5)\n",
            "Requirement already satisfied: six>=1.5 in /usr/local/lib/python3.10/dist-packages (from python-dateutil>=2.8.1->pandas) (1.16.0)\n",
            "Collecting optuna\n",
            "  Downloading optuna-3.5.0-py3-none-any.whl (413 kB)\n",
            "\u001b[2K     \u001b[90m━━━━━━━━━━━━━━━━━━━━━━━━━━━━━━━━━━━━━━━━\u001b[0m \u001b[32m413.4/413.4 kB\u001b[0m \u001b[31m3.3 MB/s\u001b[0m eta \u001b[36m0:00:00\u001b[0m\n",
            "\u001b[?25hCollecting alembic>=1.5.0 (from optuna)\n",
            "  Downloading alembic-1.13.1-py3-none-any.whl (233 kB)\n",
            "\u001b[2K     \u001b[90m━━━━━━━━━━━━━━━━━━━━━━━━━━━━━━━━━━━━━━━━\u001b[0m \u001b[32m233.4/233.4 kB\u001b[0m \u001b[31m6.9 MB/s\u001b[0m eta \u001b[36m0:00:00\u001b[0m\n",
            "\u001b[?25hCollecting colorlog (from optuna)\n",
            "  Downloading colorlog-6.8.0-py3-none-any.whl (11 kB)\n",
            "Requirement already satisfied: numpy in /usr/local/lib/python3.10/dist-packages (from optuna) (1.23.5)\n",
            "Requirement already satisfied: packaging>=20.0 in /usr/local/lib/python3.10/dist-packages (from optuna) (23.2)\n",
            "Requirement already satisfied: sqlalchemy>=1.3.0 in /usr/local/lib/python3.10/dist-packages (from optuna) (2.0.23)\n",
            "Requirement already satisfied: tqdm in /usr/local/lib/python3.10/dist-packages (from optuna) (4.66.1)\n",
            "Requirement already satisfied: PyYAML in /usr/local/lib/python3.10/dist-packages (from optuna) (6.0.1)\n",
            "Collecting Mako (from alembic>=1.5.0->optuna)\n",
            "  Downloading Mako-1.3.0-py3-none-any.whl (78 kB)\n",
            "\u001b[2K     \u001b[90m━━━━━━━━━━━━━━━━━━━━━━━━━━━━━━━━━━━━━━━━\u001b[0m \u001b[32m78.6/78.6 kB\u001b[0m \u001b[31m7.4 MB/s\u001b[0m eta \u001b[36m0:00:00\u001b[0m\n",
            "\u001b[?25hRequirement already satisfied: typing-extensions>=4 in /usr/local/lib/python3.10/dist-packages (from alembic>=1.5.0->optuna) (4.5.0)\n",
            "Requirement already satisfied: greenlet!=0.4.17 in /usr/local/lib/python3.10/dist-packages (from sqlalchemy>=1.3.0->optuna) (3.0.2)\n",
            "Requirement already satisfied: MarkupSafe>=0.9.2 in /usr/local/lib/python3.10/dist-packages (from Mako->alembic>=1.5.0->optuna) (2.1.3)\n",
            "Installing collected packages: Mako, colorlog, alembic, optuna\n",
            "Successfully installed Mako-1.3.0 alembic-1.13.1 colorlog-6.8.0 optuna-3.5.0\n"
          ]
        }
      ]
    },
    {
      "cell_type": "code",
      "source": [
        "import time"
      ],
      "metadata": {
        "id": "EpVDydqqhOfe"
      },
      "execution_count": 3,
      "outputs": []
    },
    {
      "cell_type": "code",
      "source": [
        "from sklearn.experimental import enable_iterative_imputer, enable_halving_search_cv\n",
        "from sklearn.tree import DecisionTreeRegressor\n",
        "from sklearn.metrics import mean_squared_error, median_absolute_error\n",
        "from sklearn.model_selection import GridSearchCV, KFold, PredefinedSplit, RandomizedSearchCV, HalvingGridSearchCV, cross_val_score\n",
        "from sklearn.pipeline import Pipeline, FeatureUnion\n",
        "from sklearn.impute import SimpleImputer, IterativeImputer, KNNImputer\n",
        "from sklearn.feature_selection import SelectKBest, f_regression\n",
        "from sklearn.neighbors import KNeighborsRegressor\n",
        "from sklearn.ensemble import RandomForestRegressor, GradientBoostingRegressor\n",
        "from sklearn.preprocessing import RobustScaler\n",
        "import optuna\n",
        "import pickle\n",
        "from sklearn.svm import SVR\n",
        "from sklearn.metrics import mean_squared_error"
      ],
      "metadata": {
        "id": "LMh47PZ0hj40"
      },
      "execution_count": 4,
      "outputs": []
    },
    {
      "cell_type": "code",
      "source": [
        "rs = 100505730"
      ],
      "metadata": {
        "id": "eern9E17XmRM"
      },
      "execution_count": 5,
      "outputs": []
    },
    {
      "cell_type": "markdown",
      "source": [
        "# First assigment: PREDICTING WIND ENERGY PRODUCTION WITH SCIKIT-LEARN\n",
        "\n",
        "AUTHORS:\n",
        "- Sara de la Sota Alonso (NIA 100505730)\n",
        "- María Garcia Fraile (NIA 100429121)\n",
        "\n"
      ],
      "metadata": {
        "id": "WunzPdPKBuMX"
      }
    },
    {
      "cell_type": "code",
      "source": [
        "# We have used Google Drive to get the file\n",
        "#from google.colab import drive\n",
        "#drive.mount('/content/drive')\n",
        "#PATH = '/content/drive/MyDrive/ML1/'"
      ],
      "metadata": {
        "id": "VBANLgHniURA",
        "colab": {
          "base_uri": "https://localhost:8080/"
        },
        "outputId": "5678d790-546f-4542-eb19-17bb4b712c2b"
      },
      "execution_count": 6,
      "outputs": [
        {
          "output_type": "stream",
          "name": "stdout",
          "text": [
            "Mounted at /content/drive\n"
          ]
        }
      ]
    },
    {
      "cell_type": "code",
      "execution_count": 41,
      "metadata": {
        "id": "tcSjCptCgeGa"
      },
      "outputs": [],
      "source": [
        "#dataset = pd.read_csv(PATH+'wind_available.csv.gzip', compression=\"gzip\")\n",
        "dataset = pd.read_csv('wind_available.csv.gzip', compression=\"gzip\")\n",
        "\n",
        "dataset.head()\n",
        "dataset.columns\n",
        "df = dataset"
      ]
    },
    {
      "cell_type": "markdown",
      "source": [
        "# Exploratory data analysis\n",
        "The dataset contains meteorological variables from 25 different locations near Sotavento. To approach the problem we have explore the dataset, explore the target variable and identify potential problems before constructing a model."
      ],
      "metadata": {
        "id": "4sCU5_TLB91t"
      }
    },
    {
      "cell_type": "markdown",
      "source": [
        "### Data size\n",
        "The data set has 4748 instances and 555 features including the target energy."
      ],
      "metadata": {
        "id": "f0lu08HykC_u"
      }
    },
    {
      "cell_type": "code",
      "source": [
        "#Size of the data\n",
        "num_rows, num_columns = dataset.shape\n",
        "print(f\"Number of Istances: {num_rows}\")\n",
        "print(f\"Number of Features: {num_columns}\")"
      ],
      "metadata": {
        "colab": {
          "base_uri": "https://localhost:8080/"
        },
        "id": "BAeeY96BHt34",
        "outputId": "4845d346-8f5c-409a-a98f-c5d80324d564"
      },
      "execution_count": 42,
      "outputs": [
        {
          "output_type": "stream",
          "name": "stdout",
          "text": [
            "Number of Istances: 4748\n",
            "Number of Features: 555\n"
          ]
        }
      ]
    },
    {
      "cell_type": "markdown",
      "source": [
        "### Variable types\n",
        "We wil detect wich features are categorical and wich are continuous. There are 4 categorical variables all refered to the time that are the year, month, day and hour of the observations. All the other variables are continuous. Since the aim of this project is to estimate the energy wich is continuous we have a regression problem."
      ],
      "metadata": {
        "id": "GlQwMC4TkHmD"
      }
    },
    {
      "cell_type": "code",
      "source": [
        "#Detect with features are categorical\n",
        "unique_values={}\n",
        "for col in df:\n",
        "  content= df[col].unique()\n",
        "  content = content.tolist()\n",
        "  unique_values[str(col)]=content\n",
        "for i in unique_values:\n",
        "  if len(unique_values[i])<35:\n",
        "    print(i,unique_values[i])"
      ],
      "metadata": {
        "colab": {
          "base_uri": "https://localhost:8080/"
        },
        "id": "yxovWb2fkP1A",
        "outputId": "86af2a5b-2b66-4893-bf49-74b539a6afcf"
      },
      "execution_count": 9,
      "outputs": [
        {
          "output_type": "stream",
          "name": "stdout",
          "text": [
            "year [2005, 2006, 2007, 2008, 2009]\n",
            "month [1, 2, 3, 4, 5, 6, 7, 8, 9, 10, 11, 12]\n",
            "day [2, 3, 4, 5, 6, 7, 8, 9, 10, 11, 12, 13, 14, 15, 16, 17, 18, 19, 20, 21, 22, 23, 24, 25, 26, 27, 28, 29, 30, 31, 1]\n",
            "hour [18, 0, 6, 12]\n"
          ]
        }
      ]
    },
    {
      "cell_type": "markdown",
      "source": [
        "### Check for constant columns\n",
        "There are no constant columns, therefore all features can potentiallly be useful to make predictions."
      ],
      "metadata": {
        "id": "3qs-9Q-lcuFO"
      }
    },
    {
      "cell_type": "code",
      "source": [
        "# Check for constant columns\n",
        "constant_columns = [col for col in df.columns if df[col].nunique() == 1]\n",
        "if constant_columns!=[]:\n",
        "  print(\"Constant columns:\\n\", constant_columns)\n",
        "else:\n",
        "  print(\"There are no constant columns.\")\n"
      ],
      "metadata": {
        "colab": {
          "base_uri": "https://localhost:8080/"
        },
        "id": "NDMjDHjUZymm",
        "outputId": "274dac1d-ef35-45b9-e13d-73a1b8bdfbd2"
      },
      "execution_count": 10,
      "outputs": [
        {
          "output_type": "stream",
          "name": "stdout",
          "text": [
            "There are no constant columns.\n"
          ]
        }
      ]
    },
    {
      "cell_type": "markdown",
      "source": [
        "### Target variable\n",
        "Firstly, we will visualize the target distribution to understand the behaviour of the variable energy and its distribution, look for outliers or interesting patterns and set a performance benchmark. Then, we will study the correlation between the predictors and the target in order to identify the most influential or relevant predictors that significantly impact the behavior or outcome of the target variable and those variables that might not be relevant"
      ],
      "metadata": {
        "id": "pHFUKRtWjlsw"
      }
    },
    {
      "cell_type": "code",
      "source": [
        "target= df['energy']"
      ],
      "metadata": {
        "id": "mUGYurdAnj49"
      },
      "execution_count": 11,
      "outputs": []
    },
    {
      "cell_type": "code",
      "source": [
        "# Plotting a histogram\n",
        "plt.figure(figsize=(8, 6))\n",
        "plt.hist(target, bins=30, color='skyblue', edgecolor='black')\n",
        "plt.title('Histogram of energy')\n",
        "plt.xlabel('Energy values')\n",
        "plt.ylabel('Frequency')\n",
        "plt.show()"
      ],
      "metadata": {
        "colab": {
          "base_uri": "https://localhost:8080/",
          "height": 564
        },
        "id": "8CgGV_6ccath",
        "outputId": "99dc12ab-3499-4bd5-e20b-4712b17fdb55"
      },
      "execution_count": 12,
      "outputs": [
        {
          "output_type": "display_data",
          "data": {
            "text/plain": [
              "<Figure size 800x600 with 1 Axes>"
            ],
            "image/png": "[encoded data removed]"
          },
          "metadata": {}
        }
      ]
    },
    {
      "cell_type": "markdown",
      "source": [
        "In the histogram above we can see a right-skewed distribution where the instances tak values between 0 and 3000. The majority class is near to zero and then the frequency starts decreasing up to the last value."
      ],
      "metadata": {
        "id": "BYQDbs8DDho2"
      }
    },
    {
      "cell_type": "markdown",
      "source": [
        "Regarding the correlations, in the table below we can see the value for all the features. Moreover we have plotted the 30 highest correlated features and the 30 lower. The highest feature is p55.162, the vertical integral of divergence of kinetic energy, with a coefficient slighlty bigger than 0.4. On the contrary, the lowest correlated feature, near to 0 is p55.162, the vertical integral of water vapour. This information could be relevant to perform feature selection."
      ],
      "metadata": {
        "id": "SJNoFnETELNX"
      }
    },
    {
      "cell_type": "code",
      "source": [
        "# Compute the correlation matrix\n",
        "correlation_matrix = df.corr()\n",
        "\n",
        "# Extract correlations of other features with the target variable 'energy'\n",
        "target_correlations = correlation_matrix['energy'].drop('energy')\n",
        "\n",
        "# Sort correlations in descending order to get the top N correlated features\n",
        "top_n = 30  # Change this value to display a different number of top features\n",
        "top_correlations = target_correlations.abs().nlargest(top_n)\n",
        "\n",
        "# Sort correlations in ascending order to get the top N lowest correlated features\n",
        "top_lowest_n = 30  # Change this value to display a different number of bottom features\n",
        "top_lowest_correlations = target_correlations.abs().nsmallest(top_lowest_n)\n",
        "\n",
        "# Plotting bar plot for top N correlated features\n",
        "plt.figure(figsize=(18, 10))\n",
        "sns.barplot(x=top_correlations.values, y=top_correlations.index, palette='muted')\n",
        "plt.title(f'Top {top_n} Correlated Features with Energy')\n",
        "plt.xlabel('Absolute Correlation')\n",
        "plt.ylabel('Features')\n",
        "plt.show()\n",
        "\n",
        "# Plotting bar plot for top N lowest correlated features\n",
        "plt.figure(figsize=(18, 10))\n",
        "sns.barplot(x=top_lowest_correlations.values, y=top_lowest_correlations.index, palette='muted')\n",
        "plt.title(f'Top {top_lowest_n} Lowest Correlated Features with Energy')\n",
        "plt.xlabel('Absolute Correlation')\n",
        "plt.ylabel('Features')\n",
        "plt.show()"
      ],
      "metadata": {
        "colab": {
          "base_uri": "https://localhost:8080/",
          "height": 1000
        },
        "id": "JICQAroKeF-o",
        "outputId": "84ea691a-0998-4fba-decd-424dad124835"
      },
      "execution_count": 14,
      "outputs": [
        {
          "output_type": "display_data",
          "data": {
            "text/plain": [
              "<Figure size 1800x1000 with 1 Axes>"
            ],
            "image/png": "[encoded data removed]"
          },
          "metadata": {}
        },
        {
          "output_type": "display_data",
          "data": {
            "text/plain": [
              "<Figure size 1800x1000 with 1 Axes>"
            ],
            "image/png": "[encoded data removed]"
          },
          "metadata": {}
        }
      ]
    },
    {
      "cell_type": "code",
      "source": [
        "# Display correlation table for the target variable 'energy'\n",
        "print(\"Correlation Table for 'energy':\")\n",
        "correlation = pd.DataFrame(correlation_matrix['energy'])\n",
        "correlation"
      ],
      "metadata": {
        "colab": {
          "base_uri": "https://localhost:8080/",
          "height": 441
        },
        "id": "FOm1ZOyHiynj",
        "outputId": "6580ca23-d194-49f0-f9a1-15bee4ac5999"
      },
      "execution_count": 15,
      "outputs": [
        {
          "output_type": "stream",
          "name": "stdout",
          "text": [
            "Correlation Table for 'energy':\n"
          ]
        },
        {
          "output_type": "execute_result",
          "data": {
            "text/plain": [
              "           energy\n",
              "energy   1.000000\n",
              "year     0.008027\n",
              "month    0.033065\n",
              "day     -0.008878\n",
              "hour    -0.033962\n",
              "...           ...\n",
              "v100.21  0.290507\n",
              "v100.22  0.299461\n",
              "v100.23  0.302173\n",
              "v100.24  0.313052\n",
              "v100.25  0.330276\n",
              "\n",
              "[555 rows x 1 columns]"
            ],
            "text/html": [
              "\n",
              "  <div id=\"df-1b1c8e6c-bcfc-42ed-8199-55b720f11ffc\" class=\"colab-df-container\">\n",
              "    <div>\n",
              "<style scoped>\n",
              "    .dataframe tbody tr th:only-of-type {\n",
              "        vertical-align: middle;\n",
              "    }\n",
              "\n",
              "    .dataframe tbody tr th {\n",
              "        vertical-align: top;\n",
              "    }\n",
              "\n",
              "    .dataframe thead th {\n",
              "        text-align: right;\n",
              "    }\n",
              "</style>\n",
              "<table border=\"1\" class=\"dataframe\">\n",
              "  <thead>\n",
              "    <tr style=\"text-align: right;\">\n",
              "      <th></th>\n",
              "      <th>energy</th>\n",
              "    </tr>\n",
              "  </thead>\n",
              "  <tbody>\n",
              "    <tr>\n",
              "      <th>energy</th>\n",
              "      <td>1.000000</td>\n",
              "    </tr>\n",
              "    <tr>\n",
              "      <th>year</th>\n",
              "      <td>0.008027</td>\n",
              "    </tr>\n",
              "    <tr>\n",
              "      <th>month</th>\n",
              "      <td>0.033065</td>\n",
              "    </tr>\n",
              "    <tr>\n",
              "      <th>day</th>\n",
              "      <td>-0.008878</td>\n",
              "    </tr>\n",
              "    <tr>\n",
              "      <th>hour</th>\n",
              "      <td>-0.033962</td>\n",
              "    </tr>\n",
              "    <tr>\n",
              "      <th>...</th>\n",
              "      <td>...</td>\n",
              "    </tr>\n",
              "    <tr>\n",
              "      <th>v100.21</th>\n",
              "      <td>0.290507</td>\n",
              "    </tr>\n",
              "    <tr>\n",
              "      <th>v100.22</th>\n",
              "      <td>0.299461</td>\n",
              "    </tr>\n",
              "    <tr>\n",
              "      <th>v100.23</th>\n",
              "      <td>0.302173</td>\n",
              "    </tr>\n",
              "    <tr>\n",
              "      <th>v100.24</th>\n",
              "      <td>0.313052</td>\n",
              "    </tr>\n",
              "    <tr>\n",
              "      <th>v100.25</th>\n",
              "      <td>0.330276</td>\n",
              "    </tr>\n",
              "  </tbody>\n",
              "</table>\n",
              "<p>555 rows × 1 columns</p>\n",
              "</div>\n",
              "    <div class=\"colab-df-buttons\">\n",
              "\n",
              "  <div class=\"colab-df-container\">\n",
              "    <button class=\"colab-df-convert\" onclick=\"convertToInteractive('df-1b1c8e6c-bcfc-42ed-8199-55b720f11ffc')\"\n",
              "            title=\"Convert this dataframe to an interactive table.\"\n",
              "            style=\"display:none;\">\n",
              "\n",
              "  <svg xmlns=\"http://www.w3.org/2000/svg\" height=\"24px\" viewBox=\"0 -960 960 960\">\n",
              "    <path d=\"M120-120v-720h720v720H120Zm60-500h600v-160H180v160Zm220 220h160v-160H400v160Zm0 220h160v-160H400v160ZM180-400h160v-160H180v160Zm440 0h160v-160H620v160ZM180-180h160v-160H180v160Zm440 0h160v-160H620v160Z\"/>\n",
              "  </svg>\n",
              "    </button>\n",
              "\n",
              "  <style>\n",
              "    .colab-df-container {\n",
              "      display:flex;\n",
              "      gap: 12px;\n",
              "    }\n",
              "\n",
              "    .colab-df-convert {\n",
              "      background-color: #E8F0FE;\n",
              "      border: none;\n",
              "      border-radius: 50%;\n",
              "      cursor: pointer;\n",
              "      display: none;\n",
              "      fill: #1967D2;\n",
              "      height: 32px;\n",
              "      padding: 0 0 0 0;\n",
              "      width: 32px;\n",
              "    }\n",
              "\n",
              "    .colab-df-convert:hover {\n",
              "      background-color: #E2EBFA;\n",
              "      box-shadow: 0px 1px 2px rgba(60, 64, 67, 0.3), 0px 1px 3px 1px rgba(60, 64, 67, 0.15);\n",
              "      fill: #174EA6;\n",
              "    }\n",
              "\n",
              "    .colab-df-buttons div {\n",
              "      margin-bottom: 4px;\n",
              "    }\n",
              "\n",
              "    [theme=dark] .colab-df-convert {\n",
              "      background-color: #3B4455;\n",
              "      fill: #D2E3FC;\n",
              "    }\n",
              "\n",
              "    [theme=dark] .colab-df-convert:hover {\n",
              "      background-color: #434B5C;\n",
              "      box-shadow: 0px 1px 3px 1px rgba(0, 0, 0, 0.15);\n",
              "      filter: drop-shadow(0px 1px 2px rgba(0, 0, 0, 0.3));\n",
              "      fill: #FFFFFF;\n",
              "    }\n",
              "  </style>\n",
              "\n",
              "    <script>\n",
              "      const buttonEl =\n",
              "        document.querySelector('#df-1b1c8e6c-bcfc-42ed-8199-55b720f11ffc button.colab-df-convert');\n",
              "      buttonEl.style.display =\n",
              "        google.colab.kernel.accessAllowed ? 'block' : 'none';\n",
              "\n",
              "      async function convertToInteractive(key) {\n",
              "        const element = document.querySelector('#df-1b1c8e6c-bcfc-42ed-8199-55b720f11ffc');\n",
              "        const dataTable =\n",
              "          await google.colab.kernel.invokeFunction('convertToInteractive',\n",
              "                                                    [key], {});\n",
              "        if (!dataTable) return;\n",
              "\n",
              "        const docLinkHtml = 'Like what you see? Visit the ' +\n",
              "          '<a target=\"_blank\" href=https://colab.research.google.com/notebooks/data_table.ipynb>data table notebook</a>'\n",
              "          + ' to learn more about interactive tables.';\n",
              "        element.innerHTML = '';\n",
              "        dataTable['output_type'] = 'display_data';\n",
              "        await google.colab.output.renderOutput(dataTable, element);\n",
              "        const docLink = document.createElement('div');\n",
              "        docLink.innerHTML = docLinkHtml;\n",
              "        element.appendChild(docLink);\n",
              "      }\n",
              "    </script>\n",
              "  </div>\n",
              "\n",
              "\n",
              "<div id=\"df-623e0167-e2d7-4f6b-a8d2-25e629f67e92\">\n",
              "  <button class=\"colab-df-quickchart\" onclick=\"quickchart('df-623e0167-e2d7-4f6b-a8d2-25e629f67e92')\"\n",
              "            title=\"Suggest charts\"\n",
              "            style=\"display:none;\">\n",
              "\n",
              "<svg xmlns=\"http://www.w3.org/2000/svg\" height=\"24px\"viewBox=\"0 0 24 24\"\n",
              "     width=\"24px\">\n",
              "    <g>\n",
              "        <path d=\"M19 3H5c-1.1 0-2 .9-2 2v14c0 1.1.9 2 2 2h14c1.1 0 2-.9 2-2V5c0-1.1-.9-2-2-2zM9 17H7v-7h2v7zm4 0h-2V7h2v10zm4 0h-2v-4h2v4z\"/>\n",
              "    </g>\n",
              "</svg>\n",
              "  </button>\n",
              "\n",
              "<style>\n",
              "  .colab-df-quickchart {\n",
              "      --bg-color: #E8F0FE;\n",
              "      --fill-color: #1967D2;\n",
              "      --hover-bg-color: #E2EBFA;\n",
              "      --hover-fill-color: #174EA6;\n",
              "      --disabled-fill-color: #AAA;\n",
              "      --disabled-bg-color: #DDD;\n",
              "  }\n",
              "\n",
              "  [theme=dark] .colab-df-quickchart {\n",
              "      --bg-color: #3B4455;\n",
              "      --fill-color: #D2E3FC;\n",
              "      --hover-bg-color: #434B5C;\n",
              "      --hover-fill-color: #FFFFFF;\n",
              "      --disabled-bg-color: #3B4455;\n",
              "      --disabled-fill-color: #666;\n",
              "  }\n",
              "\n",
              "  .colab-df-quickchart {\n",
              "    background-color: var(--bg-color);\n",
              "    border: none;\n",
              "    border-radius: 50%;\n",
              "    cursor: pointer;\n",
              "    display: none;\n",
              "    fill: var(--fill-color);\n",
              "    height: 32px;\n",
              "    padding: 0;\n",
              "    width: 32px;\n",
              "  }\n",
              "\n",
              "  .colab-df-quickchart:hover {\n",
              "    background-color: var(--hover-bg-color);\n",
              "    box-shadow: 0 1px 2px rgba(60, 64, 67, 0.3), 0 1px 3px 1px rgba(60, 64, 67, 0.15);\n",
              "    fill: var(--button-hover-fill-color);\n",
              "  }\n",
              "\n",
              "  .colab-df-quickchart-complete:disabled,\n",
              "  .colab-df-quickchart-complete:disabled:hover {\n",
              "    background-color: var(--disabled-bg-color);\n",
              "    fill: var(--disabled-fill-color);\n",
              "    box-shadow: none;\n",
              "  }\n",
              "\n",
              "  .colab-df-spinner {\n",
              "    border: 2px solid var(--fill-color);\n",
              "    border-color: transparent;\n",
              "    border-bottom-color: var(--fill-color);\n",
              "    animation:\n",
              "      spin 1s steps(1) infinite;\n",
              "  }\n",
              "\n",
              "  @keyframes spin {\n",
              "    0% {\n",
              "      border-color: transparent;\n",
              "      border-bottom-color: var(--fill-color);\n",
              "      border-left-color: var(--fill-color);\n",
              "    }\n",
              "    20% {\n",
              "      border-color: transparent;\n",
              "      border-left-color: var(--fill-color);\n",
              "      border-top-color: var(--fill-color);\n",
              "    }\n",
              "    30% {\n",
              "      border-color: transparent;\n",
              "      border-left-color: var(--fill-color);\n",
              "      border-top-color: var(--fill-color);\n",
              "      border-right-color: var(--fill-color);\n",
              "    }\n",
              "    40% {\n",
              "      border-color: transparent;\n",
              "      border-right-color: var(--fill-color);\n",
              "      border-top-color: var(--fill-color);\n",
              "    }\n",
              "    60% {\n",
              "      border-color: transparent;\n",
              "      border-right-color: var(--fill-color);\n",
              "    }\n",
              "    80% {\n",
              "      border-color: transparent;\n",
              "      border-right-color: var(--fill-color);\n",
              "      border-bottom-color: var(--fill-color);\n",
              "    }\n",
              "    90% {\n",
              "      border-color: transparent;\n",
              "      border-bottom-color: var(--fill-color);\n",
              "    }\n",
              "  }\n",
              "</style>\n",
              "\n",
              "  <script>\n",
              "    async function quickchart(key) {\n",
              "      const quickchartButtonEl =\n",
              "        document.querySelector('#' + key + ' button');\n",
              "      quickchartButtonEl.disabled = true;  // To prevent multiple clicks.\n",
              "      quickchartButtonEl.classList.add('colab-df-spinner');\n",
              "      try {\n",
              "        const charts = await google.colab.kernel.invokeFunction(\n",
              "            'suggestCharts', [key], {});\n",
              "      } catch (error) {\n",
              "        console.error('Error during call to suggestCharts:', error);\n",
              "      }\n",
              "      quickchartButtonEl.classList.remove('colab-df-spinner');\n",
              "      quickchartButtonEl.classList.add('colab-df-quickchart-complete');\n",
              "    }\n",
              "    (() => {\n",
              "      let quickchartButtonEl =\n",
              "        document.querySelector('#df-623e0167-e2d7-4f6b-a8d2-25e629f67e92 button');\n",
              "      quickchartButtonEl.style.display =\n",
              "        google.colab.kernel.accessAllowed ? 'block' : 'none';\n",
              "    })();\n",
              "  </script>\n",
              "</div>\n",
              "    </div>\n",
              "  </div>\n"
            ]
          },
          "metadata": {},
          "execution_count": 15
        }
      ]
    },
    {
      "cell_type": "markdown",
      "source": [
        "### Missing values\n",
        "Most machine learning algorithms have problems working with missing values. Moreover if a feature has a high number of them, we would need to remove that column, because the information quality is not good enough.\n",
        "Below we can see a table with the number of missing values per column. Moreover, all rows contain a null value, so removing rows is not an option. We will approach this problem by substituting missing values with imputation."
      ],
      "metadata": {
        "id": "oCYHdfC_DjBf"
      }
    },
    {
      "cell_type": "code",
      "source": [
        "# Count the null values for each feature (column)\n",
        "null_values_per_feature = df.isnull().sum()\n",
        "\n",
        "# Convert the Series to a DataFrame\n",
        "null_values_table = pd.DataFrame(null_values_per_feature, columns=['Null Values'])\n",
        "\n",
        "# Sort the DataFrame by the number of null values in descending order\n",
        "null_values_table = null_values_table.sort_values(by='Null Values', ascending=False)\n",
        "\n",
        "# Display the result\n",
        "print(\"Number of null values for each feature:\")\n",
        "print(null_values_table)\n"
      ],
      "metadata": {
        "id": "uWEnfx3ZDVlL",
        "colab": {
          "base_uri": "https://localhost:8080/"
        },
        "outputId": "6bf1d872-03c4-47ac-8bf1-e5a947d97aaa"
      },
      "execution_count": 16,
      "outputs": [
        {
          "output_type": "stream",
          "name": "stdout",
          "text": [
            "Number of null values for each feature:\n",
            "           Null Values\n",
            "lai_hv.13          964\n",
            "fsr.3              957\n",
            "v10n.24            947\n",
            "stl3.20            946\n",
            "lai_hv.19          942\n",
            "...                ...\n",
            "hour                 0\n",
            "year                 0\n",
            "day                  0\n",
            "month                0\n",
            "energy               0\n",
            "\n",
            "[555 rows x 1 columns]\n"
          ]
        }
      ]
    },
    {
      "cell_type": "markdown",
      "source": [
        "In the next sections we will need to approach these missing values by using different methods of imputation."
      ],
      "metadata": {
        "id": "363Y9xOg57YD"
      }
    },
    {
      "cell_type": "markdown",
      "source": [
        "In the following table we see a general description of all the variables in the data frame."
      ],
      "metadata": {
        "id": "0sY2WUDCJl17"
      }
    },
    {
      "cell_type": "code",
      "source": [
        "df.describe()"
      ],
      "metadata": {
        "colab": {
          "base_uri": "https://localhost:8080/",
          "height": 350
        },
        "id": "Yp8nclCIkHh1",
        "outputId": "dc67af1d-6b41-491e-8321-18986878031c"
      },
      "execution_count": 17,
      "outputs": [
        {
          "output_type": "execute_result",
          "data": {
            "text/plain": [
              "            energy         year        month          day         hour  \\\n",
              "count  4748.000000  4748.000000  4748.000000  4748.000000  4748.000000   \n",
              "mean    693.126247  2006.628475     6.628054    15.652485     9.123842   \n",
              "std     665.531609     1.414856     3.475914     8.844734     6.755085   \n",
              "min       0.010000  2005.000000     1.000000     1.000000     0.000000   \n",
              "25%     144.170000  2005.000000     4.000000     8.000000     6.000000   \n",
              "50%     465.305000  2006.000000     7.000000    16.000000    12.000000   \n",
              "75%    1089.375000  2007.000000    10.000000    23.000000    18.000000   \n",
              "max    2792.550000  2009.000000    12.000000    31.000000    18.000000   \n",
              "\n",
              "          p54.162.1     p54.162.2     p54.162.3     p54.162.4     p54.162.5  \\\n",
              "count  4.376000e+03  4.287000e+03  4.485000e+03  4.434000e+03  4.259000e+03   \n",
              "mean   2.512664e+06  2.504671e+06  2.497395e+06  2.489648e+06  2.481708e+06   \n",
              "std    4.498680e+04  4.519397e+04  4.504295e+04  4.483586e+04  4.460474e+04   \n",
              "min    2.380562e+06  2.373125e+06  2.365683e+06  2.358246e+06  2.350809e+06   \n",
              "25%    2.481905e+06  2.473722e+06  2.466373e+06  2.458621e+06  2.451135e+06   \n",
              "50%    2.513508e+06  2.505370e+06  2.498471e+06  2.490711e+06  2.482535e+06   \n",
              "75%    2.548502e+06  2.540545e+06  2.533515e+06  2.525281e+06  2.517041e+06   \n",
              "max    2.604194e+06  2.596310e+06  2.588421e+06  2.580532e+06  2.572648e+06   \n",
              "\n",
              "       ...      v100.16      v100.17      v100.18      v100.19      v100.20  \\\n",
              "count  ...  4140.000000  4181.000000  4018.000000  3816.000000  4480.000000   \n",
              "mean   ...     0.230065     0.277537     0.359449     0.438263     0.406071   \n",
              "std    ...     4.902399     4.813315     4.666727     4.493713     4.342197   \n",
              "min    ...   -13.737945   -13.359267   -12.980589   -12.601412   -12.222734   \n",
              "25%    ...    -3.572133    -3.464741    -3.239355    -3.020580    -2.933020   \n",
              "50%    ...    -0.515392    -0.450284    -0.387420    -0.180619    -0.237745   \n",
              "75%    ...     3.732389     3.668777     3.663663     3.606537     3.467963   \n",
              "max    ...    17.730758    17.229346    16.774832    16.366718    15.959103   \n",
              "\n",
              "           v100.21      v100.22      v100.23      v100.24      v100.25  \n",
              "count  4487.000000  4361.000000  4179.000000  4169.000000  4312.000000  \n",
              "mean      0.225057     0.260836     0.280071     0.332205     0.404362  \n",
              "std       4.869798     4.725219     4.569511     4.442757     4.314635  \n",
              "min     -13.712999   -13.326339   -11.274292   -12.552518   -12.165857  \n",
              "25%      -3.528852    -3.393895    -3.224513    -3.068601    -2.864918  \n",
              "50%      -0.507160    -0.464253    -0.385424    -0.329047    -0.261194  \n",
              "75%       3.697215     3.612399     3.489915     3.454242     3.400235  \n",
              "max      17.571603    17.080170    16.588237    16.096804    15.681705  \n",
              "\n",
              "[8 rows x 555 columns]"
            ],
            "text/html": [
              "\n",
              "  <div id=\"df-955746cd-b127-4ed3-9d16-56d7df3db482\" class=\"colab-df-container\">\n",
              "    <div>\n",
              "<style scoped>\n",
              "    .dataframe tbody tr th:only-of-type {\n",
              "        vertical-align: middle;\n",
              "    }\n",
              "\n",
              "    .dataframe tbody tr th {\n",
              "        vertical-align: top;\n",
              "    }\n",
              "\n",
              "    .dataframe thead th {\n",
              "        text-align: right;\n",
              "    }\n",
              "</style>\n",
              "<table border=\"1\" class=\"dataframe\">\n",
              "  <thead>\n",
              "    <tr style=\"text-align: right;\">\n",
              "      <th></th>\n",
              "      <th>energy</th>\n",
              "      <th>year</th>\n",
              "      <th>month</th>\n",
              "      <th>day</th>\n",
              "      <th>hour</th>\n",
              "      <th>p54.162.1</th>\n",
              "      <th>p54.162.2</th>\n",
              "      <th>p54.162.3</th>\n",
              "      <th>p54.162.4</th>\n",
              "      <th>p54.162.5</th>\n",
              "      <th>...</th>\n",
              "      <th>v100.16</th>\n",
              "      <th>v100.17</th>\n",
              "      <th>v100.18</th>\n",
              "      <th>v100.19</th>\n",
              "      <th>v100.20</th>\n",
              "      <th>v100.21</th>\n",
              "      <th>v100.22</th>\n",
              "      <th>v100.23</th>\n",
              "      <th>v100.24</th>\n",
              "      <th>v100.25</th>\n",
              "    </tr>\n",
              "  </thead>\n",
              "  <tbody>\n",
              "    <tr>\n",
              "      <th>count</th>\n",
              "      <td>4748.000000</td>\n",
              "      <td>4748.000000</td>\n",
              "      <td>4748.000000</td>\n",
              "      <td>4748.000000</td>\n",
              "      <td>4748.000000</td>\n",
              "      <td>4.376000e+03</td>\n",
              "      <td>4.287000e+03</td>\n",
              "      <td>4.485000e+03</td>\n",
              "      <td>4.434000e+03</td>\n",
              "      <td>4.259000e+03</td>\n",
              "      <td>...</td>\n",
              "      <td>4140.000000</td>\n",
              "      <td>4181.000000</td>\n",
              "      <td>4018.000000</td>\n",
              "      <td>3816.000000</td>\n",
              "      <td>4480.000000</td>\n",
              "      <td>4487.000000</td>\n",
              "      <td>4361.000000</td>\n",
              "      <td>4179.000000</td>\n",
              "      <td>4169.000000</td>\n",
              "      <td>4312.000000</td>\n",
              "    </tr>\n",
              "    <tr>\n",
              "      <th>mean</th>\n",
              "      <td>693.126247</td>\n",
              "      <td>2006.628475</td>\n",
              "      <td>6.628054</td>\n",
              "      <td>15.652485</td>\n",
              "      <td>9.123842</td>\n",
              "      <td>2.512664e+06</td>\n",
              "      <td>2.504671e+06</td>\n",
              "      <td>2.497395e+06</td>\n",
              "      <td>2.489648e+06</td>\n",
              "      <td>2.481708e+06</td>\n",
              "      <td>...</td>\n",
              "      <td>0.230065</td>\n",
              "      <td>0.277537</td>\n",
              "      <td>0.359449</td>\n",
              "      <td>0.438263</td>\n",
              "      <td>0.406071</td>\n",
              "      <td>0.225057</td>\n",
              "      <td>0.260836</td>\n",
              "      <td>0.280071</td>\n",
              "      <td>0.332205</td>\n",
              "      <td>0.404362</td>\n",
              "    </tr>\n",
              "    <tr>\n",
              "      <th>std</th>\n",
              "      <td>665.531609</td>\n",
              "      <td>1.414856</td>\n",
              "      <td>3.475914</td>\n",
              "      <td>8.844734</td>\n",
              "      <td>6.755085</td>\n",
              "      <td>4.498680e+04</td>\n",
              "      <td>4.519397e+04</td>\n",
              "      <td>4.504295e+04</td>\n",
              "      <td>4.483586e+04</td>\n",
              "      <td>4.460474e+04</td>\n",
              "      <td>...</td>\n",
              "      <td>4.902399</td>\n",
              "      <td>4.813315</td>\n",
              "      <td>4.666727</td>\n",
              "      <td>4.493713</td>\n",
              "      <td>4.342197</td>\n",
              "      <td>4.869798</td>\n",
              "      <td>4.725219</td>\n",
              "      <td>4.569511</td>\n",
              "      <td>4.442757</td>\n",
              "      <td>4.314635</td>\n",
              "    </tr>\n",
              "    <tr>\n",
              "      <th>min</th>\n",
              "      <td>0.010000</td>\n",
              "      <td>2005.000000</td>\n",
              "      <td>1.000000</td>\n",
              "      <td>1.000000</td>\n",
              "      <td>0.000000</td>\n",
              "      <td>2.380562e+06</td>\n",
              "      <td>2.373125e+06</td>\n",
              "      <td>2.365683e+06</td>\n",
              "      <td>2.358246e+06</td>\n",
              "      <td>2.350809e+06</td>\n",
              "      <td>...</td>\n",
              "      <td>-13.737945</td>\n",
              "      <td>-13.359267</td>\n",
              "      <td>-12.980589</td>\n",
              "      <td>-12.601412</td>\n",
              "      <td>-12.222734</td>\n",
              "      <td>-13.712999</td>\n",
              "      <td>-13.326339</td>\n",
              "      <td>-11.274292</td>\n",
              "      <td>-12.552518</td>\n",
              "      <td>-12.165857</td>\n",
              "    </tr>\n",
              "    <tr>\n",
              "      <th>25%</th>\n",
              "      <td>144.170000</td>\n",
              "      <td>2005.000000</td>\n",
              "      <td>4.000000</td>\n",
              "      <td>8.000000</td>\n",
              "      <td>6.000000</td>\n",
              "      <td>2.481905e+06</td>\n",
              "      <td>2.473722e+06</td>\n",
              "      <td>2.466373e+06</td>\n",
              "      <td>2.458621e+06</td>\n",
              "      <td>2.451135e+06</td>\n",
              "      <td>...</td>\n",
              "      <td>-3.572133</td>\n",
              "      <td>-3.464741</td>\n",
              "      <td>-3.239355</td>\n",
              "      <td>-3.020580</td>\n",
              "      <td>-2.933020</td>\n",
              "      <td>-3.528852</td>\n",
              "      <td>-3.393895</td>\n",
              "      <td>-3.224513</td>\n",
              "      <td>-3.068601</td>\n",
              "      <td>-2.864918</td>\n",
              "    </tr>\n",
              "    <tr>\n",
              "      <th>50%</th>\n",
              "      <td>465.305000</td>\n",
              "      <td>2006.000000</td>\n",
              "      <td>7.000000</td>\n",
              "      <td>16.000000</td>\n",
              "      <td>12.000000</td>\n",
              "      <td>2.513508e+06</td>\n",
              "      <td>2.505370e+06</td>\n",
              "      <td>2.498471e+06</td>\n",
              "      <td>2.490711e+06</td>\n",
              "      <td>2.482535e+06</td>\n",
              "      <td>...</td>\n",
              "      <td>-0.515392</td>\n",
              "      <td>-0.450284</td>\n",
              "      <td>-0.387420</td>\n",
              "      <td>-0.180619</td>\n",
              "      <td>-0.237745</td>\n",
              "      <td>-0.507160</td>\n",
              "      <td>-0.464253</td>\n",
              "      <td>-0.385424</td>\n",
              "      <td>-0.329047</td>\n",
              "      <td>-0.261194</td>\n",
              "    </tr>\n",
              "    <tr>\n",
              "      <th>75%</th>\n",
              "      <td>1089.375000</td>\n",
              "      <td>2007.000000</td>\n",
              "      <td>10.000000</td>\n",
              "      <td>23.000000</td>\n",
              "      <td>18.000000</td>\n",
              "      <td>2.548502e+06</td>\n",
              "      <td>2.540545e+06</td>\n",
              "      <td>2.533515e+06</td>\n",
              "      <td>2.525281e+06</td>\n",
              "      <td>2.517041e+06</td>\n",
              "      <td>...</td>\n",
              "      <td>3.732389</td>\n",
              "      <td>3.668777</td>\n",
              "      <td>3.663663</td>\n",
              "      <td>3.606537</td>\n",
              "      <td>3.467963</td>\n",
              "      <td>3.697215</td>\n",
              "      <td>3.612399</td>\n",
              "      <td>3.489915</td>\n",
              "      <td>3.454242</td>\n",
              "      <td>3.400235</td>\n",
              "    </tr>\n",
              "    <tr>\n",
              "      <th>max</th>\n",
              "      <td>2792.550000</td>\n",
              "      <td>2009.000000</td>\n",
              "      <td>12.000000</td>\n",
              "      <td>31.000000</td>\n",
              "      <td>18.000000</td>\n",
              "      <td>2.604194e+06</td>\n",
              "      <td>2.596310e+06</td>\n",
              "      <td>2.588421e+06</td>\n",
              "      <td>2.580532e+06</td>\n",
              "      <td>2.572648e+06</td>\n",
              "      <td>...</td>\n",
              "      <td>17.730758</td>\n",
              "      <td>17.229346</td>\n",
              "      <td>16.774832</td>\n",
              "      <td>16.366718</td>\n",
              "      <td>15.959103</td>\n",
              "      <td>17.571603</td>\n",
              "      <td>17.080170</td>\n",
              "      <td>16.588237</td>\n",
              "      <td>16.096804</td>\n",
              "      <td>15.681705</td>\n",
              "    </tr>\n",
              "  </tbody>\n",
              "</table>\n",
              "<p>8 rows × 555 columns</p>\n",
              "</div>\n",
              "    <div class=\"colab-df-buttons\">\n",
              "\n",
              "  <div class=\"colab-df-container\">\n",
              "    <button class=\"colab-df-convert\" onclick=\"convertToInteractive('df-955746cd-b127-4ed3-9d16-56d7df3db482')\"\n",
              "            title=\"Convert this dataframe to an interactive table.\"\n",
              "            style=\"display:none;\">\n",
              "\n",
              "  <svg xmlns=\"http://www.w3.org/2000/svg\" height=\"24px\" viewBox=\"0 -960 960 960\">\n",
              "    <path d=\"M120-120v-720h720v720H120Zm60-500h600v-160H180v160Zm220 220h160v-160H400v160Zm0 220h160v-160H400v160ZM180-400h160v-160H180v160Zm440 0h160v-160H620v160ZM180-180h160v-160H180v160Zm440 0h160v-160H620v160Z\"/>\n",
              "  </svg>\n",
              "    </button>\n",
              "\n",
              "  <style>\n",
              "    .colab-df-container {\n",
              "      display:flex;\n",
              "      gap: 12px;\n",
              "    }\n",
              "\n",
              "    .colab-df-convert {\n",
              "      background-color: #E8F0FE;\n",
              "      border: none;\n",
              "      border-radius: 50%;\n",
              "      cursor: pointer;\n",
              "      display: none;\n",
              "      fill: #1967D2;\n",
              "      height: 32px;\n",
              "      padding: 0 0 0 0;\n",
              "      width: 32px;\n",
              "    }\n",
              "\n",
              "    .colab-df-convert:hover {\n",
              "      background-color: #E2EBFA;\n",
              "      box-shadow: 0px 1px 2px rgba(60, 64, 67, 0.3), 0px 1px 3px 1px rgba(60, 64, 67, 0.15);\n",
              "      fill: #174EA6;\n",
              "    }\n",
              "\n",
              "    .colab-df-buttons div {\n",
              "      margin-bottom: 4px;\n",
              "    }\n",
              "\n",
              "    [theme=dark] .colab-df-convert {\n",
              "      background-color: #3B4455;\n",
              "      fill: #D2E3FC;\n",
              "    }\n",
              "\n",
              "    [theme=dark] .colab-df-convert:hover {\n",
              "      background-color: #434B5C;\n",
              "      box-shadow: 0px 1px 3px 1px rgba(0, 0, 0, 0.15);\n",
              "      filter: drop-shadow(0px 1px 2px rgba(0, 0, 0, 0.3));\n",
              "      fill: #FFFFFF;\n",
              "    }\n",
              "  </style>\n",
              "\n",
              "    <script>\n",
              "      const buttonEl =\n",
              "        document.querySelector('#df-955746cd-b127-4ed3-9d16-56d7df3db482 button.colab-df-convert');\n",
              "      buttonEl.style.display =\n",
              "        google.colab.kernel.accessAllowed ? 'block' : 'none';\n",
              "\n",
              "      async function convertToInteractive(key) {\n",
              "        const element = document.querySelector('#df-955746cd-b127-4ed3-9d16-56d7df3db482');\n",
              "        const dataTable =\n",
              "          await google.colab.kernel.invokeFunction('convertToInteractive',\n",
              "                                                    [key], {});\n",
              "        if (!dataTable) return;\n",
              "\n",
              "        const docLinkHtml = 'Like what you see? Visit the ' +\n",
              "          '<a target=\"_blank\" href=https://colab.research.google.com/notebooks/data_table.ipynb>data table notebook</a>'\n",
              "          + ' to learn more about interactive tables.';\n",
              "        element.innerHTML = '';\n",
              "        dataTable['output_type'] = 'display_data';\n",
              "        await google.colab.output.renderOutput(dataTable, element);\n",
              "        const docLink = document.createElement('div');\n",
              "        docLink.innerHTML = docLinkHtml;\n",
              "        element.appendChild(docLink);\n",
              "      }\n",
              "    </script>\n",
              "  </div>\n",
              "\n",
              "\n",
              "<div id=\"df-6833bedc-4e5f-4c28-9cc9-7452d1c00396\">\n",
              "  <button class=\"colab-df-quickchart\" onclick=\"quickchart('df-6833bedc-4e5f-4c28-9cc9-7452d1c00396')\"\n",
              "            title=\"Suggest charts\"\n",
              "            style=\"display:none;\">\n",
              "\n",
              "<svg xmlns=\"http://www.w3.org/2000/svg\" height=\"24px\"viewBox=\"0 0 24 24\"\n",
              "     width=\"24px\">\n",
              "    <g>\n",
              "        <path d=\"M19 3H5c-1.1 0-2 .9-2 2v14c0 1.1.9 2 2 2h14c1.1 0 2-.9 2-2V5c0-1.1-.9-2-2-2zM9 17H7v-7h2v7zm4 0h-2V7h2v10zm4 0h-2v-4h2v4z\"/>\n",
              "    </g>\n",
              "</svg>\n",
              "  </button>\n",
              "\n",
              "<style>\n",
              "  .colab-df-quickchart {\n",
              "      --bg-color: #E8F0FE;\n",
              "      --fill-color: #1967D2;\n",
              "      --hover-bg-color: #E2EBFA;\n",
              "      --hover-fill-color: #174EA6;\n",
              "      --disabled-fill-color: #AAA;\n",
              "      --disabled-bg-color: #DDD;\n",
              "  }\n",
              "\n",
              "  [theme=dark] .colab-df-quickchart {\n",
              "      --bg-color: #3B4455;\n",
              "      --fill-color: #D2E3FC;\n",
              "      --hover-bg-color: #434B5C;\n",
              "      --hover-fill-color: #FFFFFF;\n",
              "      --disabled-bg-color: #3B4455;\n",
              "      --disabled-fill-color: #666;\n",
              "  }\n",
              "\n",
              "  .colab-df-quickchart {\n",
              "    background-color: var(--bg-color);\n",
              "    border: none;\n",
              "    border-radius: 50%;\n",
              "    cursor: pointer;\n",
              "    display: none;\n",
              "    fill: var(--fill-color);\n",
              "    height: 32px;\n",
              "    padding: 0;\n",
              "    width: 32px;\n",
              "  }\n",
              "\n",
              "  .colab-df-quickchart:hover {\n",
              "    background-color: var(--hover-bg-color);\n",
              "    box-shadow: 0 1px 2px rgba(60, 64, 67, 0.3), 0 1px 3px 1px rgba(60, 64, 67, 0.15);\n",
              "    fill: var(--button-hover-fill-color);\n",
              "  }\n",
              "\n",
              "  .colab-df-quickchart-complete:disabled,\n",
              "  .colab-df-quickchart-complete:disabled:hover {\n",
              "    background-color: var(--disabled-bg-color);\n",
              "    fill: var(--disabled-fill-color);\n",
              "    box-shadow: none;\n",
              "  }\n",
              "\n",
              "  .colab-df-spinner {\n",
              "    border: 2px solid var(--fill-color);\n",
              "    border-color: transparent;\n",
              "    border-bottom-color: var(--fill-color);\n",
              "    animation:\n",
              "      spin 1s steps(1) infinite;\n",
              "  }\n",
              "\n",
              "  @keyframes spin {\n",
              "    0% {\n",
              "      border-color: transparent;\n",
              "      border-bottom-color: var(--fill-color);\n",
              "      border-left-color: var(--fill-color);\n",
              "    }\n",
              "    20% {\n",
              "      border-color: transparent;\n",
              "      border-left-color: var(--fill-color);\n",
              "      border-top-color: var(--fill-color);\n",
              "    }\n",
              "    30% {\n",
              "      border-color: transparent;\n",
              "      border-left-color: var(--fill-color);\n",
              "      border-top-color: var(--fill-color);\n",
              "      border-right-color: var(--fill-color);\n",
              "    }\n",
              "    40% {\n",
              "      border-color: transparent;\n",
              "      border-right-color: var(--fill-color);\n",
              "      border-top-color: var(--fill-color);\n",
              "    }\n",
              "    60% {\n",
              "      border-color: transparent;\n",
              "      border-right-color: var(--fill-color);\n",
              "    }\n",
              "    80% {\n",
              "      border-color: transparent;\n",
              "      border-right-color: var(--fill-color);\n",
              "      border-bottom-color: var(--fill-color);\n",
              "    }\n",
              "    90% {\n",
              "      border-color: transparent;\n",
              "      border-bottom-color: var(--fill-color);\n",
              "    }\n",
              "  }\n",
              "</style>\n",
              "\n",
              "  <script>\n",
              "    async function quickchart(key) {\n",
              "      const quickchartButtonEl =\n",
              "        document.querySelector('#' + key + ' button');\n",
              "      quickchartButtonEl.disabled = true;  // To prevent multiple clicks.\n",
              "      quickchartButtonEl.classList.add('colab-df-spinner');\n",
              "      try {\n",
              "        const charts = await google.colab.kernel.invokeFunction(\n",
              "            'suggestCharts', [key], {});\n",
              "      } catch (error) {\n",
              "        console.error('Error during call to suggestCharts:', error);\n",
              "      }\n",
              "      quickchartButtonEl.classList.remove('colab-df-spinner');\n",
              "      quickchartButtonEl.classList.add('colab-df-quickchart-complete');\n",
              "    }\n",
              "    (() => {\n",
              "      let quickchartButtonEl =\n",
              "        document.querySelector('#df-6833bedc-4e5f-4c28-9cc9-7452d1c00396 button');\n",
              "      quickchartButtonEl.style.display =\n",
              "        google.colab.kernel.accessAllowed ? 'block' : 'none';\n",
              "    })();\n",
              "  </script>\n",
              "</div>\n",
              "    </div>\n",
              "  </div>\n"
            ]
          },
          "metadata": {},
          "execution_count": 17
        }
      ]
    },
    {
      "cell_type": "markdown",
      "source": [
        "## Initial plan of action\n",
        "Here we show how we have orginzed and approached this project.\n",
        "\n",
        "0. Establishing inner and outer evaluation methods.\n",
        "\n",
        "1. Assuring imputation improves performance.\n",
        "  * Compare a default imputation strategy (simple imputation with median strategy) to imputing the data set with 0 values.\n",
        "\n",
        "2. Feature selection.\n",
        "  * We will employ simple imputation with median strategy and experiment with several data sets.\n",
        "  * Apply different methods select the best data set.\n",
        "\n",
        "3. Gridsearch pipeline for each method.\n",
        "  * First setp involves the chosing of the imputation method, and the subsequent step involves the regressor.\n",
        "  * After establishing the range of search of the corresponding parameters, we will develop distinct pipelines for each method under consideration (Decision tree, Knn regressor, Gradient Boosting and Random Forest).\n",
        "  * Select the best method based on the median absolute error and analize timing.\n",
        "\n",
        "4. Hyperparameter optimization of the slected method.\n",
        "  * We will create a pipeline for the three HPO methods (Random search, Halving search and Optuna) for the selected method.\n",
        "  * Analize the parameters obtained and the time of execution.\n",
        "\n",
        "5. Selecting the final model.\n",
        "  * Estimate the accuracy of the final model using the outer evaluation.\n",
        "  * Train the final model and make predictions using the competition data set.\n",
        "\n",
        "Note: In order to efficiently save our results we created an excel file where we would save the parameter results as well as the time of execution of each method. All results are included in the conclusion sections delivered in tables, so we can easily compare all the results.\n",
        "\n",
        "Changes of the plan: we have decided to do HPO with Random search, Halving search and Optuna for the best two models obtained in the Gridsearch section."
      ],
      "metadata": {
        "id": "b-Ked47MQrOL"
      }
    },
    {
      "cell_type": "markdown",
      "source": [
        "##Inner and Outer evaluation\n",
        " The dataset spans five years from 2005 to 2009, and for training purposes, we will utilize data from the first four years. For the outer evaluation we will use the data from 2009 as testing data to estimate future performance. This temporal split ensures that the model is tested on a realistic scenario, enhancing its reliability in forecasting energy production at the Sotavento during all seasons of the year.\n",
        "\n",
        " In order to evaluate the machine learning model's performance during the training phase we will split the training set in train-train and train-validation, to keep the realistic scenario we will have the data from years 2005, 2006 and 2007 for training and 2008 for validation porpuses.\n",
        "\n",
        " The metric we will be using for evaluating model's performances is the median absolute error since it is robust against outliers."
      ],
      "metadata": {
        "id": "yWF-WwdPXKCL"
      }
    },
    {
      "cell_type": "markdown",
      "source": [
        "We will scale the data we will be using to train the models, since features with larger scales can dominate the learning process, leading to suboptimal model performance. In order to avoid the influence of outliers we have decided to use the Robust scaler."
      ],
      "metadata": {
        "id": "peM3O6Lr7iZ8"
      }
    },
    {
      "cell_type": "code",
      "source": [
        "column_names = dataset.columns.to_list()\n",
        "year_column_index = np.where(np.array(column_names) == 'year')[0][0]\n",
        "\n",
        "dataset = dataset.to_numpy()\n",
        "# Separating the dataset based on the 'year' column\n",
        "train_data = dataset[dataset[:, year_column_index] < 2009]\n",
        "train_train_data = dataset[dataset[:, year_column_index] < 2008]  # Training data (years 2005-2008)\n",
        "val_data = dataset[(dataset[:, year_column_index] == 2008)] # Validation data (year 2009)\n",
        "test_data = dataset[dataset[:, year_column_index] == 2009]  # Test data (year 2009)\n",
        "#predefined split.\n",
        "# Extracting features and targets from the sets if needed\n",
        "X_train, y_train = train_data[:, 1:], train_data[:, 0]\n",
        "X_test, y_test = test_data[:, 1:], test_data[:, 0]\n",
        "# Create a RobustScaler\n",
        "scaler = RobustScaler()\n",
        "# Fit the scaler on the numerical columns and transform the data\n",
        "X_train = scaler.fit_transform(X_train)\n",
        "X_test = scaler.fit_transform(X_test)\n"
      ],
      "metadata": {
        "id": "OX_Ou0aHgcXY"
      },
      "execution_count": 43,
      "outputs": []
    },
    {
      "cell_type": "code",
      "source": [
        "#separating test for inner evaluation\n",
        "X_train_train, y_train_train = train_train_data[:, 1:], train_train_data[:, 0]\n",
        "X_val, y_val = val_data[:, 1:], val_data[:, 0]"
      ],
      "metadata": {
        "id": "L-SIcuLsj2oo"
      },
      "execution_count": 44,
      "outputs": []
    },
    {
      "cell_type": "code",
      "source": [
        "indices = [-1]*(len(train_train_data))+[0]*len(val_data)\n",
        "inner = PredefinedSplit(indices)"
      ],
      "metadata": {
        "id": "vEFKqx3xj31D"
      },
      "execution_count": 45,
      "outputs": []
    },
    {
      "cell_type": "markdown",
      "source": [
        "# Imputation\n",
        "As we have shown in the Explanatory Data Analysis, there are several columns with missing values, up to 20% of them in some cases. Moreover, every row has a missing value. There are different ways to approach this problem and in this section we will compare which is the best way to treat the missing values in this dataset. In order to do that, we have tested the four models we are going to use in this problem with two different datasets, the first one filling the missing values with 0's ant the second one imputing the missing values using the mean value of every column"
      ],
      "metadata": {
        "id": "KqzlPbVxoEfV"
      }
    },
    {
      "cell_type": "markdown",
      "source": [
        "## Code"
      ],
      "metadata": {
        "id": "76zvHzA61QX4"
      }
    },
    {
      "cell_type": "code",
      "source": [
        "X_train_train_nans = np.nan_to_num(X_train_train, nan=0)\n",
        "X_val_nans = np.nan_to_num(X_val, nan=0)"
      ],
      "metadata": {
        "id": "FEEprPUSoH0j"
      },
      "execution_count": 22,
      "outputs": []
    },
    {
      "cell_type": "code",
      "source": [
        "imp = SimpleImputer(strategy='median')\n",
        "# Fill missing values in df and assign transformed values back to df\n",
        "X_train_train_fs = imp.fit_transform(X_train_train)\n",
        "X_val_fs = imp.fit_transform(X_val)"
      ],
      "metadata": {
        "id": "dpdatIlop27N"
      },
      "execution_count": 23,
      "outputs": []
    },
    {
      "cell_type": "code",
      "source": [
        "# Create the Decision Tree Regressor\n",
        "dt_regressor = DecisionTreeRegressor(random_state=rs)\n",
        "dt_regressor.fit(X_train_train_fs, y_train_train)\n",
        "predictions = dt_regressor.predict(X_val_fs)\n",
        "median_absolute_err_dt_imp = median_absolute_error(y_val, predictions)\n",
        "\n",
        "dt_regressor = DecisionTreeRegressor(random_state=rs)\n",
        "dt_regressor.fit(X_train_train_nans, y_train_train)\n",
        "predictions = dt_regressor.predict(X_val_nans)\n",
        "median_absolute_err_dt_nan = median_absolute_error(y_val, predictions)\n",
        "\n",
        "knn_regressor = KNeighborsRegressor()\n",
        "knn_regressor.fit(X_train_train_fs, y_train_train)\n",
        "predictions = dt_regressor.predict(X_val_fs)\n",
        "median_absolute_err_knn_imp = median_absolute_error(y_val, predictions)\n",
        "\n",
        "knn_regressor.fit(X_train_train_nans, y_train_train)\n",
        "predictions = knn_regressor.predict(X_val_nans)\n",
        "median_absolute_err_knn_nan = median_absolute_error(y_val, predictions)\n",
        "\n",
        "rf_regressor = RandomForestRegressor(random_state=rs)\n",
        "rf_regressor.fit(X_train_train_fs, y_train_train)\n",
        "predictions = dt_regressor.predict(X_val_fs)\n",
        "median_absolute_err_rf_imp = median_absolute_error(y_val, predictions)\n",
        "\n",
        "rf_regressor.fit(X_train_train_nans, y_train_train)\n",
        "predictions = dt_regressor.predict(X_val_nans)\n",
        "median_absolute_err_rf_nan = median_absolute_error(y_val, predictions)\n",
        "\n",
        "gb_regressor = GradientBoostingRegressor(random_state=rs)\n",
        "gb_regressor.fit(X_train_train_fs, y_train_train)\n",
        "predictions = gb_regressor.predict(X_val_fs)\n",
        "median_absolute_err_gb_imp = median_absolute_error(y_val, predictions)\n",
        "\n",
        "gb_regressor.fit(X_train_train_nans, y_train_train)\n",
        "predictions = gb_regressor.predict(X_val_nans)\n",
        "median_absolute_err_gb_nan = median_absolute_error(y_val, predictions)\n",
        "\n",
        "# Create lists to store the errors\n",
        "errors_dt_imp = [median_absolute_err_dt_imp, median_absolute_err_knn_imp, median_absolute_err_rf_imp, median_absolute_err_gb_imp]\n",
        "errors_dt_nan = [median_absolute_err_dt_nan, median_absolute_err_knn_nan, median_absolute_err_rf_nan, median_absolute_err_gb_nan]\n",
        "\n",
        "# Calculate the mean of errors with imputation and NaNs\n",
        "mean_error_imp = sum(errors_dt_imp) / len(errors_dt_imp)\n",
        "mean_error_nan = sum(errors_dt_nan) / len(errors_dt_nan)\n"
      ],
      "metadata": {
        "id": "0MWhcaZxpdDW"
      },
      "execution_count": null,
      "outputs": []
    },
    {
      "cell_type": "markdown",
      "source": [
        "## Results"
      ],
      "metadata": {
        "id": "NvRcPc5O1WRM"
      }
    },
    {
      "cell_type": "code",
      "source": [
        "# Print the mean errors\n",
        "print(\"Mean of errors with imputation:\", mean_error_imp)\n",
        "print(\"Mean of errors with NaNs:\", mean_error_nan)\n"
      ],
      "metadata": {
        "colab": {
          "base_uri": "https://localhost:8080/"
        },
        "id": "CFDLUGFu0VGL",
        "outputId": "6c76e881-d618-4349-8111-b95c14e9c8f4"
      },
      "execution_count": null,
      "outputs": [
        {
          "output_type": "stream",
          "name": "stdout",
          "text": [
            "Mean of errors with imputation: 255.97216296761547\n",
            "Mean of errors with NaNs: 299.55893700201545\n"
          ]
        }
      ]
    },
    {
      "cell_type": "markdown",
      "source": [
        "The mean median absolute error of the four models using imputation is 45 points better than the results obtained by filling the dataset with 0s as we can see above. Thus, we will use imputation to solve the problem of missing values. We will consider two types of imputation, univariate and multivariate using KNN. They will become part of the Hyper parameter optimization process and before constructing the final model we will choose the best option based on the results."
      ],
      "metadata": {
        "id": "jfEFEzww1aJw"
      }
    },
    {
      "cell_type": "markdown",
      "source": [
        "# Feature selection\n",
        "Feature selection is performed to identify and choose the most relevant and informative features, reducing dimensionality and improving model performance by eliminating irrelevant or redundant features."
      ],
      "metadata": {
        "id": "43FnKakjC1Q1"
      }
    },
    {
      "cell_type": "markdown",
      "source": [
        "## Creating datasets\n",
        "We will create four different datasets in adittion to the original one based on the exploratory analysis and the information given in the statment of the problem.\n",
        "\n",
        "1. Sotavento: the first dataset will only contain information about Sotavento,\n",
        "ignoring the neighbours. This dataset will reduce drastically the dimensionality of the problem.\n",
        "2. Closest neighbors: this dataset will include only contiguous neighbors of Sotavento. It is a tradeoff between dimensionality, noise and information\n",
        "3. High correlated features: in this case we will take into account the most relevant features obtained from the exploratory data analysis, including wind features and high correlated features with the target, which will reduce the information of the dataset but will reduce dimensionality of the problem.\n",
        "4. Low correlated features: finally, we will remove low correlated features obtained by the exploratory data analysis, which will remove a few variables but it will keep the majority of the information.\n",
        "\n"
      ],
      "metadata": {
        "id": "b7N1HSj9JQlu"
      }
    },
    {
      "cell_type": "code",
      "source": [
        "#############--ONLY FEATURES FROM SOTAVENTO--#################\n",
        "column_names = column_names[1:]\n",
        "# Find the indices of columns ending with \".13\"\n",
        "sotavento_ind = np.where(np.core.defchararray.endswith(column_names, '.13'))[0]\n",
        "\n",
        "# Select columns with indices ending with \".13\"\n",
        "sotavento_train = X_train_train_fs[:, sotavento_ind]\n",
        "sotavento_test = X_val_fs[:, sotavento_ind]\n",
        "\n",
        "#############--CLOSEST NEIGHBOURS--#################\n",
        "suffixes_to_filter = ['.7', '.8', '.9', '.12', '.13', '.14', '.17', '.18', '.19']\n",
        "\n",
        "# Find the indices of columns ending with the specified suffixes\n",
        "selected_columns_indices = [i for i, name in enumerate(column_names) if name.endswith(tuple(suffixes_to_filter))]\n",
        "# Select columns with indices ending with the specified suffixes\n",
        "closest_neigh_train = X_train_train_fs[:, selected_columns_indices]\n",
        "closest_test = X_val_fs[:, selected_columns_indices]\n",
        "\n",
        "############--HIGH CORRELATED AND WIND FEATURES--################\n",
        "# Define the prefixes you want to filter (those who have high correlations + wind + energy)\n",
        "prefixes_to_filter = ['p59.162.', 'u10.', 'v10.', 'u100.', 'v100.', 'cape.','u10n','v10n']\n",
        "# Find the indices of columns starting with the specified prefixes\n",
        "wind_indices = [i for i, name in enumerate(column_names) if name.startswith(tuple(prefixes_to_filter))]\n",
        "# Select columns with indices starting with the specified prefixes\n",
        "wind_columns_train = X_train_train_fs[:, wind_indices]\n",
        "wind_columns_test = X_val_fs[:, wind_indices]\n",
        "\n",
        "##############--REMOVING LOW CORREALATED--####################\n",
        "# Define prefixes to remove\n",
        "prefixes_to_remove = ['p55.', 'year', 'flsr']\n",
        "\n",
        "# Get indices of columns to remove based on prefixes\n",
        "columns_to_remove = [i for i, name in enumerate(column_names) if name.startswith(tuple(prefixes_to_remove))]\n",
        "\n",
        "# Filter columns based on prefixes\n",
        "remove_low_correlated_train = np.delete(X_train_train_fs, columns_to_remove, axis=1)\n",
        "remove_low_correlated_test = np.delete(X_val_fs, columns_to_remove, axis=1)"
      ],
      "metadata": {
        "id": "Px6SaPBAjmPA"
      },
      "execution_count": 46,
      "outputs": []
    },
    {
      "cell_type": "markdown",
      "source": [
        "### Code:\n",
        "We will experiment with each data set and analyze the median absolute error of each method."
      ],
      "metadata": {
        "id": "OadEv4CY5S1G"
      }
    },
    {
      "cell_type": "markdown",
      "source": [
        "Decision Trees"
      ],
      "metadata": {
        "id": "gzoOuhlkKcuI"
      }
    },
    {
      "cell_type": "code",
      "source": [
        "# Create the Decision Tree Regressor\n",
        "dt_regressor = DecisionTreeRegressor(random_state=rs)\n",
        "dt_regressor.fit(X_train_train_fs, y_train_train)\n",
        "predictions = dt_regressor.predict(X_val_fs)\n",
        "median_absolute_err_dt_all = median_absolute_error(y_val, predictions)\n",
        "\n",
        "# Create the Decision Tree Regressor\n",
        "dt_sotavento = DecisionTreeRegressor(random_state = rs)\n",
        "dt_sotavento.fit(sotavento_train, y_train_train)\n",
        "predictions = dt_sotavento.predict(sotavento_test)\n",
        "median_absolute_err_dt_sotavento = median_absolute_error(y_val, predictions)\n",
        "\n",
        "# Create the Decision Tree Regressor\n",
        "dt_neigh = DecisionTreeRegressor(random_state = rs)\n",
        "dt_neigh.fit(closest_neigh_train, y_train_train)\n",
        "predictions = dt_neigh.predict(closest_test)\n",
        "median_absolute_err_dt_closest = median_absolute_error(y_val, predictions)\n",
        "\n",
        "\n",
        "# Create the Decision Tree Regressor\n",
        "dt_wind = DecisionTreeRegressor(random_state = rs)\n",
        "dt_wind.fit(wind_columns_train, y_train_train)\n",
        "predictions = dt_wind.predict(wind_columns_test)\n",
        "median_absolute_err_dt_wind = median_absolute_error(y_val, predictions)\n",
        "\n",
        "\n",
        "dt_lowcorr = DecisionTreeRegressor(random_state = rs)\n",
        "dt_lowcorr.fit(remove_low_correlated_train, y_train_train)\n",
        "predictions = dt_lowcorr.predict(remove_low_correlated_test)\n",
        "mean_neg_median_absolute_error_lowcorr_dt = median_absolute_error(y_val, predictions)\n",
        "\n",
        "\n",
        "print(\"Mean median absolute error using all features:\", median_absolute_err_dt_all)\n",
        "print(\"Mean median absolute error using only sotavento:\", median_absolute_err_dt_sotavento)\n",
        "print(\"Mean median absolute error using neighbours:\", median_absolute_err_dt_closest)\n",
        "print(\"Mean median absolute error using wind and high correlated features:\" ,median_absolute_err_dt_wind)\n",
        "print(\"Mean median absolute error removing low correlated features:\", mean_neg_median_absolute_error_lowcorr_dt)"
      ],
      "metadata": {
        "colab": {
          "base_uri": "https://localhost:8080/"
        },
        "id": "6wBsV0zZGFQT",
        "outputId": "fa3f9f5b-8661-414a-e84b-56bd9a72a24d"
      },
      "execution_count": null,
      "outputs": [
        {
          "output_type": "stream",
          "name": "stdout",
          "text": [
            "Mean median absolute error using all features: 252.30500000000006\n",
            "Mean median absolute error using only sotavento: 307.22\n",
            "Mean median absolute error using neighbours: 320.41999999999996\n",
            "Mean median absolute error using wind and high correlated features: 355.82500000000005\n",
            "Mean median absolute error removing low correlated features: 260.525\n"
          ]
        }
      ]
    },
    {
      "cell_type": "markdown",
      "source": [
        "K-nn"
      ],
      "metadata": {
        "id": "28enfODaLtpM"
      }
    },
    {
      "cell_type": "code",
      "source": [
        "# Create the KNN Regressor\n",
        "knn_regressor = KNeighborsRegressor()\n",
        "knn_regressor.fit(X_train_train_fs, y_train_train)\n",
        "predictions = knn_regressor.predict(X_val_fs)\n",
        "error_scores_all_features_knn = median_absolute_error(y_val, predictions)\n",
        "\n",
        "# Create the KNN Regressor for the sotavento subset\n",
        "knn_sotavento = KNeighborsRegressor()\n",
        "knn_sotavento.fit(sotavento_train, y_train_train)\n",
        "predictions = knn_sotavento.predict(sotavento_test)\n",
        "error_scores_sot_knn = median_absolute_error(y_val, predictions)\n",
        "\n",
        "\n",
        "# Create the KNN Regressor for the closest_neigh subset\n",
        "knn_neigh = KNeighborsRegressor()\n",
        "knn_neigh.fit(closest_neigh_train, y_train_train)\n",
        "predictions = knn_neigh.predict(closest_test)\n",
        "median_absolute_err_knn_closest = median_absolute_error(y_val, predictions)\n",
        "\n",
        "# Create the KNN Regressor for the high correlated and wind features subset\n",
        "knn_corr = KNeighborsRegressor()\n",
        "knn_corr.fit(wind_columns_train, y_train_train)\n",
        "predictions = knn_corr.predict(wind_columns_test)\n",
        "median_absolute_err_knn_wind = median_absolute_error(y_val, predictions)\n",
        "\n",
        "knn_lowcorr = KNeighborsRegressor()\n",
        "knn_lowcorr.fit(remove_low_correlated_train, y_train_train)\n",
        "predictions = knn_lowcorr.predict(remove_low_correlated_test)\n",
        "mean_neg_median_absolute_error_lowcorr_knn = median_absolute_error(y_val, predictions)\n",
        "\n",
        "print(\"Mean median absolute error using all features:\", error_scores_all_features_knn)\n",
        "print(\"Mean median absolute error using only sotavento:\", error_scores_sot_knn)\n",
        "print(\"Mean median absolute error using neighbours:\", median_absolute_err_knn_closest)\n",
        "print(\"Mean median absolute error using high correlation and wind features:\", median_absolute_err_knn_wind)\n",
        "print(\"Mean median absolute error removing low correlated features:\", mean_neg_median_absolute_error_lowcorr_knn)"
      ],
      "metadata": {
        "colab": {
          "base_uri": "https://localhost:8080/"
        },
        "id": "ZnSVla5eLvsI",
        "outputId": "fbf31ac2-fa6f-4328-c834-1c8bc4e83c03"
      },
      "execution_count": null,
      "outputs": [
        {
          "output_type": "stream",
          "name": "stdout",
          "text": [
            "Mean median absolute error using all features: 470.433\n",
            "Mean median absolute error using only sotavento: 395.92400000000004\n",
            "Mean median absolute error using neighbours: 400.644\n",
            "Mean median absolute error using high correlation and wind features: 459.055\n",
            "Mean median absolute error removing low correlated features: 470.433\n"
          ]
        }
      ]
    },
    {
      "cell_type": "markdown",
      "source": [
        "Random Forest"
      ],
      "metadata": {
        "id": "RCWXpDpVM3Jd"
      }
    },
    {
      "cell_type": "code",
      "source": [
        "# Create the Random Forest Regressor\n",
        "rf_regressor = RandomForestRegressor(random_state = rs)\n",
        "rf_regressor.fit(X_train_train_fs, y_train_train)\n",
        "predictions = rf_regressor.predict(X_val_fs)\n",
        "mean_neg_median_absolute_error_all_features = median_absolute_error(y_val, predictions)\n",
        "\n",
        "\n",
        "# Create the Random Forest Regressor for the sotavento subset using neg_median_absolute_error as the scoring metric\n",
        "rf_sotavento = RandomForestRegressor(random_state = rs)\n",
        "rf_sotavento.fit(sotavento_train, y_train_train)\n",
        "predictions = rf_sotavento.predict(sotavento_test)\n",
        "mean_neg_median_absolute_error_sotavento = median_absolute_error(y_val, predictions)\n",
        "\n",
        "# Create the Random Forest Regressor for the closest_neigh subset using neg_median_absolute_error as the scoring metric\n",
        "rf_neigh = RandomForestRegressor(random_state = rs)\n",
        "rf_neigh.fit(closest_neigh_train, y_train_train)\n",
        "predictions = rf_neigh.predict(closest_test)\n",
        "mean_neg_median_absolute_error_neigh = median_absolute_error(y_val, predictions)\n",
        "\n",
        "# Create the Gradient Boosting Regressor for the closest_neigh subset using neg_median_absolute_error as the scoring metric\n",
        "rf_wind = RandomForestRegressor(random_state = rs)\n",
        "rf_wind.fit(wind_columns_train, y_train_train)\n",
        "predictions = rf_wind.predict(wind_columns_test)\n",
        "mean_neg_median_absolute_error_wind_rf = median_absolute_error(y_val, predictions)\n",
        "\n",
        "rf_lowcorr = RandomForestRegressor(random_state = rs)\n",
        "rf_lowcorr.fit(remove_low_correlated_train, y_train_train)\n",
        "predictions = rf_lowcorr.predict(remove_low_correlated_test)\n",
        "mean_neg_median_absolute_error_lowcorr_rf = median_absolute_error(y_val, predictions)\n",
        "\n",
        "print(\"Mean neg_median_absolute_error using all features:\", mean_neg_median_absolute_error_all_features)\n",
        "print(\"Mean neg_median_absolute_error using only sotavento:\", mean_neg_median_absolute_error_sotavento)\n",
        "print(\"Mean neg_median_absolute_error using neighbours:\", mean_neg_median_absolute_error_neigh)\n",
        "print(\"Mean median absolute error using high correlation and wind features:\", mean_neg_median_absolute_error_wind_rf)\n",
        "print(\"Mean median absolute error removing low correlated features:\", mean_neg_median_absolute_error_lowcorr_rf)"
      ],
      "metadata": {
        "id": "khgyHlwlN0sJ",
        "colab": {
          "base_uri": "https://localhost:8080/"
        },
        "outputId": "4569a378-dad6-4f02-e6d5-28b656574e30"
      },
      "execution_count": null,
      "outputs": [
        {
          "output_type": "stream",
          "name": "stdout",
          "text": [
            "Mean neg_median_absolute_error using all features: 219.49455\n",
            "Mean neg_median_absolute_error using only sotavento: 246.54905000000002\n",
            "Mean neg_median_absolute_error using neighbours: 234.81219999999956\n",
            "Mean median absolute error using high correlation and wind features: 216.19939999999997\n",
            "Mean median absolute error removing low correlated features: 231.47204999999997\n"
          ]
        }
      ]
    },
    {
      "cell_type": "markdown",
      "source": [
        "Gradient Boosted Tree"
      ],
      "metadata": {
        "id": "fdiWdS_pM5vC"
      }
    },
    {
      "cell_type": "code",
      "source": [
        "# Create the Gradient Boosting Regressor\n",
        "gb_regressor = GradientBoostingRegressor(random_state = rs)\n",
        "gb_regressor.fit(X_train_train_fs, y_train_train)\n",
        "predictions = gb_regressor.predict(X_val_fs)\n",
        "mean_neg_median_absolute_error_all_features = median_absolute_error(y_val, predictions)\n",
        "\n",
        "# Create the Gradient Boosting Regressor for the sotavento subset using neg_median_absolute_error as the scoring metric\n",
        "gb_sotavento = GradientBoostingRegressor(random_state = rs)\n",
        "gb_sotavento.fit(sotavento_train, y_train_train)\n",
        "predictions = gb_sotavento.predict(sotavento_test)\n",
        "mean_neg_median_absolute_error_sotavento = median_absolute_error(y_val, predictions)\n",
        "\n",
        "# Create the Gradient Boosting Regressor for the closest_neigh subset using neg_median_absolute_error as the scoring metric\n",
        "gb_neigh = GradientBoostingRegressor(random_state = rs)\n",
        "gb_neigh.fit(closest_neigh_train, y_train_train)\n",
        "predictions = gb_neigh.predict(closest_test)\n",
        "mean_neg_median_absolute_error_neigh = median_absolute_error(y_val, predictions)\n",
        "\n",
        "\n",
        "# Create the Gradient Boosting Regressor for the closest_neigh subset using neg_median_absolute_error as the scoring metric\n",
        "gb_wind = GradientBoostingRegressor(random_state = rs)\n",
        "gb_wind.fit(wind_columns_train, y_train_train)\n",
        "predictions = gb_wind.predict(wind_columns_test)\n",
        "mean_neg_median_absolute_error_wind_gb = median_absolute_error(y_val, predictions)\n",
        "\n",
        "\n",
        "gb_lowcorr = GradientBoostingRegressor(random_state = rs)\n",
        "gb_lowcorr.fit(remove_low_correlated_train, y_train_train)\n",
        "predictions = gb_lowcorr.predict(remove_low_correlated_test)\n",
        "mean_neg_median_absolute_error_lowcorr_gb = median_absolute_error(y_val, predictions)\n",
        "\n",
        "\n",
        "print(\"Mean neg_median_absolute_error using all features:\", mean_neg_median_absolute_error_all_features)\n",
        "print(\"Mean neg_median_absolute_error using only sotavento:\", mean_neg_median_absolute_error_sotavento)\n",
        "print(\"Mean neg_median_absolute_error using neighbours:\", mean_neg_median_absolute_error_neigh)\n",
        "print(\"Mean median absolute error using high correlation and wind features:\", mean_neg_median_absolute_error_wind_gb)\n",
        "print(\"Mean median absolute error removing low correlated features:\", mean_neg_median_absolute_error_lowcorr_gb)"
      ],
      "metadata": {
        "id": "CO2vS4n-ODHg",
        "colab": {
          "base_uri": "https://localhost:8080/"
        },
        "outputId": "16a623e8-4f82-4fa3-efa1-bde66eef4660"
      },
      "execution_count": null,
      "outputs": [
        {
          "output_type": "stream",
          "name": "stdout",
          "text": [
            "Mean neg_median_absolute_error using all features: 220.64365187046175\n",
            "Mean neg_median_absolute_error using only sotavento: 222.36365489324714\n",
            "Mean neg_median_absolute_error using neighbours: 232.2913307380161\n",
            "Mean median absolute error using high correlation and wind features: 201.35753604801423\n",
            "Mean median absolute error removing low correlated features: 221.7655714159797\n"
          ]
        }
      ]
    },
    {
      "cell_type": "markdown",
      "source": [
        "## Conclusions\n",
        "\n",
        "In the following tables we show the median absolute error depending on the set\n",
        "of features we have examined for each method.\n",
        "Firstly we have tested the performance using inner evaluation, with a train and a test set and without scaling the data. Next we have performed as well a cross validation evaluation in this section because it can behave more robustly in some cases, eventhough it is computacionally more expensive. And lastly we have used train and test sets scaling the data.\n",
        "The results have a high variance and can be seen in all tables. The decision was not straight forward, so we have decided to choose the set without the uncorrelated features.\n",
        "\n",
        "\n",
        "|  Train-Test (without scaling) |All features|Sotavento features| Sotavento neighbors | Wind features | Removed uncorrelated features|\n",
        "| --- | --- | --- | --- | --- | --- |\n",
        "| Decision trees | 252.3 | 307.22 | 320.4 |355.8| 260.5 |\n",
        "| Knn Regressor | 395.9| 470.4 | 400.6| 459.0 | 470.4|\n",
        "| Random Forest | 219.4 | 246.5 |234.8| 216.19|  231.4|\n",
        "| Gradient Boosted | 220.64 | 222.36 | 232.29 | 201.35 | 221.76|\n",
        "\n",
        "The following table shows the results of using 3-fold cross validation instead\n",
        "\n",
        "|  CV=3 (without scaling)|All features|Sotavento features| Sotavento neighbors | Wind features | Removed uncorrelated features|\n",
        "| --- | --- | --- | --- | --- | --- |\n",
        "| Decision trees | 270.89 | 272.49 | 274.86 |271.10| 269.75 |\n",
        "| Knn Regressor | 233.81| 233.29| 237.32| 246.95 | 238.38|\n",
        "| Random Forest | 210.83 | 211.55 |211.38| 205.54|  210.92|\n",
        "| Gradient Boosted | 204.38 | 218.55 | 208.86 | 205.48 | 202.63|\n",
        "\n",
        "The following table shows the results of using train-test  and scaling the data.\n",
        "\n",
        "|  Train-Test (with scaling) |All features|Sotavento features| Sotavento neighbors | Wind features | Removed uncorrelated features|\n",
        "| --- | --- | --- | --- | --- | --- |\n",
        "| Decision trees | 894.2| 839.6 | 496.7|955.66| 566.51 |\n",
        "| Knn Regressor | 738.6| 770.9| 666.89| 820.76 | 738.61|\n",
        "| Random Forest | 768.18 | 801.55 |790.79| 1075.78|  767.61|\n",
        "| Gradient Boosted | 905.51 | 701.05 | 823.44| 1481.01 | 887.8|"
      ],
      "metadata": {
        "id": "GniJ1NF8JTWh"
      }
    },
    {
      "cell_type": "markdown",
      "source": [
        "## Final Dataset\n",
        "After performing feature selection, we will create the dataset with the chosen features to construct the model."
      ],
      "metadata": {
        "id": "XKVOcybwPAjT"
      }
    },
    {
      "cell_type": "code",
      "source": [
        "# Define prefixes to remove\n",
        "prefixes_to_remove = ['p55.', 'year', 'flsr']\n",
        "\n",
        "# Get indices of columns to remove based on prefixes\n",
        "columns_to_remove = [i for i, name in enumerate(column_names) if name.startswith(tuple(prefixes_to_remove))]\n",
        "\n",
        "# Filter columns based on prefixes\n",
        "X_train = np.delete(X_train, columns_to_remove, axis=1)\n",
        "X_test = np.delete(X_test, columns_to_remove, axis=1)"
      ],
      "metadata": {
        "id": "gm8u8yVZO-70"
      },
      "execution_count": 47,
      "outputs": []
    },
    {
      "cell_type": "markdown",
      "source": [
        "# HPO"
      ],
      "metadata": {
        "id": "HXkY0sLlH-Lj"
      }
    },
    {
      "cell_type": "markdown",
      "source": [
        "## Grid search\n",
        "While performing feature selection we have seen the results of the models with the default hyper parameters. By performing hyper parameter optimitation we seek to improve the median absolute error obtained in the previous section. Additionally we will compare different methods: grid search, random search, halving search and optuna. We will perform Gridsearch with the four models and then the rest of the methods for the two best ones. We have stored the results in a table that can be seen in the conclusions subsection.\n",
        "\n",
        "The Gridsearch method is the most exhaustive method of all since it tests all combinations of the parameter grid. We will then observe that the other methods even thogh don't have the capacity of analysing all possible combinations have a much lower execution time and can be of grate advantage.\n",
        "\n",
        "We have chosen to experiment with the SimpleImputer and KnnImputer, we have avoided to include the IterativeImputer since it was computationally very expensive and didn't give us better results."
      ],
      "metadata": {
        "id": "cx5atSKelX7y"
      }
    },
    {
      "cell_type": "markdown",
      "source": [
        "### Decision tree"
      ],
      "metadata": {
        "id": "twtelvSgII12"
      }
    },
    {
      "cell_type": "code",
      "source": [
        "# Create a pipeline with SimpleImputer\n",
        "pipeline_simple = Pipeline([\n",
        "    ('imputation', SimpleImputer()),\n",
        "    ('regressor', DecisionTreeRegressor(random_state = rs))\n",
        "])\n",
        "\n",
        "# Create a pipeline with KNNImputer\n",
        "pipeline_knn = Pipeline([\n",
        "    ('imputation', KNNImputer()),\n",
        "    ('regressor', DecisionTreeRegressor(random_state = rs))\n",
        "])\n",
        "\n",
        "# Define parameter grid for grid search for each pipeline in Desition tree\n",
        "param_grid_simple_tree = {\n",
        "    'imputation__strategy': ['mean', 'median'],\n",
        "    'regressor__max_depth': list(range(5,11)),\n",
        "    'regressor__min_samples_split': list(range(5,11)),\n",
        "}\n",
        "\n",
        "param_grid_knn_tree = {\n",
        "    'imputation__n_neighbors': [3, 5, 7],\n",
        "    'regressor__max_depth': list(range(5,11)),\n",
        "    'regressor__min_samples_split': list(range(5,11))\n",
        "}\n",
        "\n",
        "# Create the GridSearchCV objects for each pipeline\n",
        "grid_search_simple = GridSearchCV(pipeline_simple, param_grid_simple_tree, cv=inner, scoring='neg_median_absolute_error', n_jobs=-1)\n",
        "grid_search_knn = GridSearchCV(pipeline_knn, param_grid_knn_tree, cv=inner, scoring='neg_median_absolute_error', n_jobs=-1)"
      ],
      "metadata": {
        "id": "iSY_NLw7hhiI"
      },
      "execution_count": null,
      "outputs": []
    },
    {
      "cell_type": "code",
      "source": [
        "start_time = time.time()  # Record the starting time\n",
        "\n",
        "# Your code here\n",
        "grid_search_simple.fit(X_train, y_train)\n",
        "\n",
        "end_time = time.time()  # Record the ending time\n",
        "\n",
        "execution_time = end_time - start_time  # Calculate execution time\n",
        "\n",
        "print(f\"Execution time: {execution_time:.2f} seconds\")\n",
        "print(f\"Best parameters for SimpleImputer: {grid_search_simple.best_params_} with score {-grid_search_simple.best_score_}\")"
      ],
      "metadata": {
        "id": "D2ULFhVshhpe"
      },
      "execution_count": null,
      "outputs": []
    },
    {
      "cell_type": "code",
      "source": [
        "start_time = time.time()\n",
        "grid_search_knn.fit(X_train, y_train)\n",
        "\n",
        "end_time = time.time()  # Record the ending time\n",
        "\n",
        "execution_time = end_time - start_time  # Calculate execution time\n",
        "\n",
        "print(f\"Execution time: {execution_time:.2f} seconds\")\n",
        "print(f\"Best parameters for KNNImputer: {grid_search_knn.best_params_} with score {- grid_search_knn.best_score_}\")"
      ],
      "metadata": {
        "id": "oL9uWXTsYN6H"
      },
      "execution_count": null,
      "outputs": []
    },
    {
      "cell_type": "markdown",
      "source": [
        "### KNN"
      ],
      "metadata": {
        "id": "DaYdHPuxINtT"
      }
    },
    {
      "cell_type": "code",
      "source": [
        "# Create a pipeline with SimpleImputer and KNNRegressor\n",
        "pipeline_simple_knn = Pipeline([\n",
        "    ('imputation', SimpleImputer()),\n",
        "    ('regressor', KNeighborsRegressor())\n",
        "])\n",
        "\n",
        "# Create a pipeline with IterativeImputer and KNNRegressor\n",
        "pipeline_iterative_knn = Pipeline([\n",
        "    ('imputation', IterativeImputer()),\n",
        "    ('regressor', KNeighborsRegressor())\n",
        "])\n",
        "\n",
        "# Create a pipeline with KNNImputer and KNNRegressor\n",
        "pipeline_knn_knn = Pipeline([\n",
        "    ('imputation', KNNImputer()),\n",
        "    ('regressor', KNeighborsRegressor())\n",
        "])\n",
        "\n",
        "# Define parameter grid for grid search for each pipeline with KNNRegressor\n",
        "param_grid_simple_knn = {\n",
        "    'imputation__strategy': ['mean', 'median'],\n",
        "    'regressor__n_neighbors': list(range(3, 10)),\n",
        "    'regressor__metric': ['euclidean', 'manhattan', 'minkowski']\n",
        "}\n",
        "\n",
        "param_grid_knn_knn = {\n",
        "    'imputation__n_neighbors': [3, 5, 7],\n",
        "    'regressor__n_neighbors': list(range(3, 10)),\n",
        "    'regressor__metric': ['euclidean', 'manhattan', 'minkowski']\n",
        "}\n",
        "\n",
        "# Create the GridSearchCV objects for each pipeline with KNNRegressor\n",
        "grid_search_simple_knn = GridSearchCV(pipeline_simple_knn, param_grid_simple_knn, cv=inner, scoring='neg_median_absolute_error', n_jobs=-1)\n",
        "grid_search_knn_knn = GridSearchCV(pipeline_knn_knn, param_grid_knn_knn, cv=inner, scoring='neg_median_absolute_error', n_jobs=-1)"
      ],
      "metadata": {
        "id": "mGhGmqt8FvlN"
      },
      "execution_count": null,
      "outputs": []
    },
    {
      "cell_type": "code",
      "source": [
        "start_time = time.time()  # Record the starting time\n",
        "# Fit the pipelines with KNNRegressor\n",
        "grid_search_simple_knn.fit(X_train, y_train)\n",
        "print(f\"Best parameters for SimpleImputer + KNNRegressor:, {grid_search_simple_knn.best_params_} with score {-grid_search_simple_knn.best_score_}\")\n",
        "end_time = time.time()  # Record the ending time\n",
        "\n",
        "execution_time = end_time - start_time  # Calculate execution time\n",
        "print(f\"Execution time: {execution_time:.2f} seconds\")"
      ],
      "metadata": {
        "id": "LAp_VsFeFzSp"
      },
      "execution_count": null,
      "outputs": []
    },
    {
      "cell_type": "code",
      "source": [
        "start_time = time.time()  # Record the starting time\n",
        "\n",
        "grid_search_knn_knn.fit(X_train, y_train)\n",
        "print(f\"Best parameters for KNNImputer + KNNRegressor:, {grid_search_knn_knn.best_params_}  with score {-grid_search_knn_knn.best_score_}\")\n",
        "\n",
        "end_time = time.time()  # Record the ending time\n",
        "execution_time = end_time - start_time  # Calculate execution time\n",
        "print(f\"Execution time: {execution_time:.2f} seconds\")"
      ],
      "metadata": {
        "id": "A3gChKqbF4hI"
      },
      "execution_count": null,
      "outputs": []
    },
    {
      "cell_type": "markdown",
      "source": [
        "### Gradient Boosted Tree"
      ],
      "metadata": {
        "id": "P2MhvRTHIQJw"
      }
    },
    {
      "cell_type": "code",
      "source": [
        "# Create a pipeline with SimpleImputer and GradientBoostingRegressor\n",
        "pipeline_simple_gb = Pipeline([\n",
        "    ('imputation', SimpleImputer()),\n",
        "    ('regressor', GradientBoostingRegressor(random_state = rs))\n",
        "])\n",
        "\n",
        "\n",
        "# Create a pipeline with KNNImputer and GradientBoostingRegressor\n",
        "pipeline_knn_gb = Pipeline([\n",
        "    ('imputation', KNNImputer()),\n",
        "    ('regressor', GradientBoostingRegressor(random_state = rs))\n",
        "])\n",
        "\n",
        "# Define parameter grid for grid search for each pipeline with GradientBoostingRegressor\n",
        "param_grid_simple_gb = {\n",
        "    'imputation__strategy': ['mean', 'median'],\n",
        "    'regressor__n_estimators': [50, 100, 200],\n",
        "    'regressor__learning_rate': [0.05, 0.1, 0.15, 0.2],\n",
        "    'regressor__max_depth': list(range(6,10)),\n",
        "    'regressor__max_features': [\"log2\"]\n",
        "}\n",
        "\n",
        "param_grid_knn_gb = {\n",
        "    'imputation__n_neighbors': [5, 7],\n",
        "    'regressor__n_estimators': [50, 100, 200],\n",
        "    'regressor__learning_rate': [0.05, 0.1, 0.15, 0.2],\n",
        "    'regressor__max_depth': list(range(6,10)),\n",
        "    'regressor__max_features': [\"log2\"]\n",
        "}"
      ],
      "metadata": {
        "id": "KxYHVjdZLkW9"
      },
      "execution_count": null,
      "outputs": []
    },
    {
      "cell_type": "code",
      "source": [
        "# Simple imputer\n",
        "grid_search_simple_gb = GridSearchCV(pipeline_simple_gb, param_grid_simple_gb, cv=inner, scoring='neg_median_absolute_error', n_jobs=-1)\n",
        "start_time = time.time()  # Record the starting time\n",
        "grid_search_simple_gb.fit(X_train, y_train)\n",
        "end_time = time.time()  # Record the ending time\n",
        "execution_time = end_time - start_time  # Calculate execution time\n",
        "print(f\"Execution time: {execution_time:.2f} seconds\")\n",
        "print(\"Best parameters for SimpleImputer + GradientBoostingRegressor:\", grid_search_simple_gb.best_params_, \"score: \", - grid_search_simple_gb.best_score_ )"
      ],
      "metadata": {
        "id": "kM0oZt6hMLKd"
      },
      "execution_count": null,
      "outputs": []
    },
    {
      "cell_type": "code",
      "source": [
        "#KNN imputer\n",
        "grid_search_knn_gb = GridSearchCV(pipeline_knn_gb, param_grid_knn_gb, cv=inner, scoring='neg_median_absolute_error', n_jobs=-1)\n",
        "\n",
        "start_time = time.time()  # Record the starting time\n",
        "grid_search_knn_gb.fit(X_train, y_train)\n",
        "end_time = time.time()  # Record the ending time\n",
        "execution_time = end_time - start_time  # Calculate execution time\n",
        "print(f\"Execution time: {execution_time:.2f} seconds\")\n",
        "\n",
        "print(\"Best parameters for KNNImputer + GradientBoostingRegressor:\", grid_search_knn_gb.best_params_, \"score: \", - grid_search_knn_gb.best_score_ )"
      ],
      "metadata": {
        "id": "gxBe7MCHMNki"
      },
      "execution_count": null,
      "outputs": []
    },
    {
      "cell_type": "code",
      "source": [
        "# Create a pipeline with SimpleImputer and RandomForestRegressor\n",
        "pipeline_simple_rf = Pipeline([\n",
        "    ('imputation', SimpleImputer()),\n",
        "    ('regressor', RandomForestRegressor())\n",
        "])\n",
        "\n",
        "# Create a pipeline with KNNImputer and RandomForestRegressor\n",
        "pipeline_knn_rf = Pipeline([\n",
        "    ('imputation', KNNImputer()),\n",
        "    ('regressor', RandomForestRegressor())\n",
        "])\n",
        "\n",
        "# Define parameter grid for grid search for each pipeline with RandomForestRegressor\n",
        "param_grid_simple_rf = {\n",
        "    'imputation__strategy': ['mean', 'median'],\n",
        "    'regressor__n_estimators': [50, 100, 200],\n",
        "    'regressor__max_depth': [None, 5, 6, 7, 8, 9, 10],\n",
        "    'regressor__min_samples_split': list(range(5,10))\n",
        "}\n",
        "\n",
        "param_grid_knn_rf = {\n",
        "    'imputation__n_neighbors': [3, 5, 7],\n",
        "    'regressor__n_estimators': [50, 100, 200],\n",
        "    'regressor__max_depth': [None, 5, 6, 7, 8, 9, 10],\n",
        "    'regressor__min_samples_split': list(range(5,10))\n",
        "}\n",
        "\n",
        "# Create the GridSearchCV objects for each pipeline with RandomForestRegressor\n",
        "grid_search_simple_rf = GridSearchCV(pipeline_simple_rf, param_grid_simple_rf, cv=inner, scoring='neg_median_absolute_error', n_jobs=-1)\n",
        "grid_search_knn_rf = GridSearchCV(pipeline_knn_rf, param_grid_knn_rf, cv=inner, scoring='neg_median_absolute_error', n_jobs=-1)"
      ],
      "metadata": {
        "id": "XQfw6UBONVLD"
      },
      "execution_count": null,
      "outputs": []
    },
    {
      "cell_type": "code",
      "source": [
        "# Fit the pipelines with RandomForestRegressor\n",
        "start_time = time.time()  # Record the starting time\n",
        "grid_search_simple_rf.fit(X_train, y_train)\n",
        "end_time = time.time()  # Record the ending time\n",
        "execution_time = end_time - start_time  # Calculate execution time\n",
        "print(f\"Execution time: {execution_time:.2f} seconds\")\n",
        "\n",
        "print(\"Best parameters for SimpleImputer + RandomForestRegressor:\", grid_search_simple_rf.best_params_ , \"score: \", grid_search_simple_rf.best_score_ )"
      ],
      "metadata": {
        "id": "bWSTDpoGN8yT"
      },
      "execution_count": null,
      "outputs": []
    },
    {
      "cell_type": "code",
      "source": [
        "start_time = time.time()  # Record the starting time\n",
        "grid_search_knn_rf.fit(X_train, y_train)\n",
        "end_time = time.time()  # Record the ending time\n",
        "execution_time = end_time - start_time  # Calculate execution time\n",
        "print(f\"Execution time: {execution_time:.2f} seconds\")\n",
        "\n",
        "print(\"Best parameters for KNNImputer + RandomForestRegressor:\", grid_search_knn_rf.best_params_, \"score: \", grid_search_knn_rf.best_score_)"
      ],
      "metadata": {
        "id": "dIzTEPWPOV9i"
      },
      "execution_count": null,
      "outputs": []
    },
    {
      "cell_type": "markdown",
      "source": [
        "## Best two models: random search, halving search, optuna"
      ],
      "metadata": {
        "id": "eEByM4RiZAsq"
      }
    },
    {
      "cell_type": "markdown",
      "source": [
        "### GradientBoostingRegressor"
      ],
      "metadata": {
        "id": "AhcjlhVfZWa-"
      }
    },
    {
      "cell_type": "markdown",
      "source": [
        "Random search\n",
        "\n",
        "The number of iterations set is close to one half of the original number of combinations in gridseach that is 96."
      ],
      "metadata": {
        "id": "SkGg3CYqsvjB"
      }
    },
    {
      "cell_type": "code",
      "source": [
        "# Create the pipeline with KNNImputer and GradientBoostingRegressor\n",
        "pipeline_gbt = Pipeline([\n",
        "    ('imputation', KNNImputer()),\n",
        "    ('regressor', GradientBoostingRegressor(random_state = rs, verbose=3))\n",
        "])\n",
        "\n",
        "# Define parameter distribution for RandomizedSearchCV\n",
        "param_dist_gbt = {\n",
        "    'imputation__n_neighbors': [5, 7],\n",
        "    'regressor__n_estimators': [50, 100, 200],\n",
        "    'regressor__learning_rate': [0.05, 0.1, 0.15, 0.2],\n",
        "    'regressor__max_depth': list(range(6,10)),\n",
        "    'regressor__max_features': [\"log2\"]\n",
        "}\n",
        "\n",
        "n_iter = 50\n",
        "# Measure time for RandomizedSearchCV\n",
        "start_time_random = time.time()\n",
        "random_search_gbt = RandomizedSearchCV(pipeline_gbt, param_distributions=param_dist_gbt, n_iter=n_iter, cv=inner, scoring='neg_median_absolute_error', n_jobs=1)\n",
        "random_search_gbt.fit(X_train, y_train)\n",
        "end_time_random = time.time()\n",
        "print(\"Time taken for RandomizedSearchCV: {:.2f} seconds\".format(end_time_random - start_time_random))\n",
        "print(\"Best parameters for RandomizedSearchCV + KNNImputer + DecisionTreeRegressor:\", random_search_gbt.best_params_, \"best score: \", -random_search_gbt.best_score_)"
      ],
      "metadata": {
        "id": "M-EuUarcZfFV"
      },
      "execution_count": null,
      "outputs": []
    },
    {
      "cell_type": "markdown",
      "source": [
        "Halving search"
      ],
      "metadata": {
        "id": "WE2X-Skb-YCF"
      }
    },
    {
      "cell_type": "code",
      "source": [
        "# Define parameter grid for HalvingGridSearchCV\n",
        "param_grid_gbt_halving = {\n",
        "    'imputation__n_neighbors': [5, 7],\n",
        "    'regressor__n_estimators': [50, 100, 200],\n",
        "    'regressor__learning_rate': [0.05, 0.1, 0.15, 0.2],\n",
        "    'regressor__max_depth': list(range(6,10)),\n",
        "    'regressor__max_features': [\"log2\"]\n",
        "}\n",
        "pipeline_gbt = Pipeline([\n",
        "    ('imputation', KNNImputer()),\n",
        "    ('regressor', GradientBoostingRegressor(random_state = rs))\n",
        "])\n",
        "# Measure time for HalvingGridSearchCV\n",
        "start_time_halving = time.time()\n",
        "halving_search_gb = HalvingGridSearchCV(pipeline_gbt, param_grid_gbt_halving, cv=inner, scoring='neg_median_absolute_error', factor=3, n_jobs=-1, min_resources = 'exhaust', max_resources = 'auto')\n",
        "halving_search_gb.fit(X_train, y_train)\n",
        "end_time_halving = time.time()\n",
        "print(\"Time taken for HalvingGridSearchCV: {:.2f} seconds\".format(end_time_halving - start_time_halving))\n",
        "print(\"Best parameters for HalvingGridSearchCV + KNNImputer + GradientBoostingRegressor:\", halving_search_gb.best_params_)"
      ],
      "metadata": {
        "id": "gep0vuPr-XcE"
      },
      "execution_count": null,
      "outputs": []
    },
    {
      "cell_type": "code",
      "source": [
        "print(\"Best parameters for HalvingGridSearchCV + KNNImputer + GradientBoostingRegressor:\", halving_search_gb.best_params_, \"best score:\", -halving_search_gb.best_score_)\n"
      ],
      "metadata": {
        "id": "ZOUPasLpWiqc"
      },
      "execution_count": null,
      "outputs": []
    },
    {
      "cell_type": "markdown",
      "source": [
        "Optuna\n",
        "\n",
        "The space search with Optuna is much bigger since it allows to explore wider ranges. We will keep the budget the same as the number of iterations in Random search."
      ],
      "metadata": {
        "id": "5l_EXmnqtrTr"
      }
    },
    {
      "cell_type": "code",
      "source": [
        "# Objective function for Optuna\n",
        "def objective(trial):\n",
        "    knn_neighbors = trial.suggest_int('imputation__n_neighbors', 5, 7)\n",
        "    gbt_max_depth = trial.suggest_int('regressor__max_depth', 6, 10)\n",
        "    gbt_n_estimators = trial.suggest_int('regressor__n_features', 50,200)\n",
        "    gbt_learning_rate = trial.suggest_float('regressor__learning_rate', 0.05, 0.2)\n",
        "\n",
        "    pipeline_gbt_optuna = Pipeline([\n",
        "        ('imputation', KNNImputer(n_neighbors=knn_neighbors)),\n",
        "        ('regressor', GradientBoostingRegressor(max_depth=gbt_max_depth, random_state = rs, learning_rate = gbt_learning_rate, n_estimators = gbt_n_estimators, max_features = 'log2'))\n",
        "    ])\n",
        "\n",
        "    start_time_optuna = time.time()\n",
        "    scores = -cross_val_score(pipeline_gbt_optuna, X_train, y_train, cv=inner, scoring='neg_median_absolute_error', n_jobs=-1)\n",
        "    end_time_optuna = time.time()\n",
        "    print(\"Time taken for Optuna: {:.2f} seconds\".format(end_time_optuna - start_time_optuna))\n",
        "    return scores.mean()\n",
        "\n",
        "\n",
        "budget = 50\n",
        "# Create the Optuna study and optimize\n",
        "study = optuna.create_study(direction='minimize')\n",
        "start_time_optuna_global = time.time()\n",
        "study.optimize(objective, n_trials=budget)\n",
        "end_time_optuna_global = time.time()"
      ],
      "metadata": {
        "id": "p_pjGW2stuWd"
      },
      "execution_count": null,
      "outputs": []
    },
    {
      "cell_type": "code",
      "source": [
        "print(\"Total time taken for Optuna: {:.2f} seconds\".format(end_time_optuna_global - start_time_optuna_global))\n",
        "best_params_optuna = study.best_params\n",
        "print(\"Best parameters for Optuna + KNNImputer + GradientBoosting:\", best_params_optuna, \"with score: \", study.best_value)"
      ],
      "metadata": {
        "id": "ui4VGnoOuTce"
      },
      "execution_count": null,
      "outputs": []
    },
    {
      "cell_type": "markdown",
      "source": [
        "### Random Forest"
      ],
      "metadata": {
        "id": "6hf1jxOvHAYL"
      }
    },
    {
      "cell_type": "markdown",
      "source": [
        "Random Search"
      ],
      "metadata": {
        "id": "H_RNoZENZMBV"
      }
    },
    {
      "cell_type": "code",
      "source": [
        "# Create the pipeline with KNNImputer and RandomForestRegressor\n",
        "pipeline_rf = Pipeline([\n",
        "    ('imputation', KNNImputer()),\n",
        "    ('regressor', RandomForestRegressor(random_state=rs))\n",
        "])\n",
        "\n",
        "\n",
        "# Define parameter distribution for RandomizedSearchCV\n",
        "param_dist_rf = {\n",
        "    'imputation__n_neighbors': [5, 7],\n",
        "    'regressor__n_estimators': [50, 100, 200],\n",
        "    'regressor__max_depth': [None, 5, 6, 7, 8, 9, 10],\n",
        "    'regressor__min_samples_split': list(range(5,10)),\n",
        "    'regressor__max_features': ['log2']\n",
        "}\n",
        "\n",
        "n_iter = 50"
      ],
      "metadata": {
        "id": "SlLiVb_McsW2"
      },
      "execution_count": null,
      "outputs": []
    },
    {
      "cell_type": "code",
      "source": [
        "# Measure time for RandomizedSearchCV\n",
        "start_time_random = time.time()\n",
        "random_search_rf = RandomizedSearchCV(\n",
        "    pipeline_rf,\n",
        "    param_distributions=param_dist_rf,\n",
        "    n_iter=n_iter,\n",
        "    cv=inner,\n",
        "    scoring='neg_median_absolute_error',\n",
        "    n_jobs=-1  # Set n_jobs to -1 for parallel processing\n",
        ")\n",
        "random_search_rf.fit(X_train, y_train)\n",
        "end_time_random = time.time()"
      ],
      "metadata": {
        "id": "cRS2mtn6cyWE"
      },
      "execution_count": null,
      "outputs": []
    },
    {
      "cell_type": "code",
      "source": [
        "print(\"Time taken for RandomizedSearchCV: {:.2f} seconds\".format(end_time_random - start_time_random))\n",
        "print(\"Best parameters for RandomizedSearchCV + KNNImputer + RandomForestRegressor:\", random_search_rf.best_params_, \"best score:\", -random_search_rf.best_score_)\n"
      ],
      "metadata": {
        "id": "2_s-Y3ZIcwDo"
      },
      "execution_count": null,
      "outputs": []
    },
    {
      "cell_type": "markdown",
      "source": [
        "Halving search"
      ],
      "metadata": {
        "id": "Y6MOTOlSy_1x"
      }
    },
    {
      "cell_type": "code",
      "source": [
        "# Define parameter grid for HalvingGridSearchCV\n",
        "param_grid_rf_halving = {\n",
        "    'imputation__n_neighbors': [5, 7],\n",
        "    'regressor__n_estimators': [50, 100, 200],\n",
        "    'regressor__max_depth': [None, 5, 6, 7, 8, 9, 10],\n",
        "    'regressor__min_samples_split': list(range(5,10)),\n",
        "    'regressor__max_features': ['log2']\n",
        "}\n",
        "\n",
        "# Create the pipeline with KNNImputer and RandomForestRegressor\n",
        "pipeline_rf = Pipeline([\n",
        "    ('imputation', KNNImputer()),\n",
        "    ('regressor', RandomForestRegressor(random_state=rs))\n",
        "])\n",
        "\n"
      ],
      "metadata": {
        "id": "VnrKZornegpH"
      },
      "execution_count": null,
      "outputs": []
    },
    {
      "cell_type": "code",
      "source": [
        "# Measure time for HalvingGridSearchCV\n",
        "start_time_halving = time.time()\n",
        "halving_search_rf = HalvingGridSearchCV(\n",
        "    pipeline_rf,\n",
        "    param_grid_rf_halving,\n",
        "    cv=inner,\n",
        "    scoring='neg_median_absolute_error',\n",
        "    factor=3,\n",
        "    n_jobs=-1,\n",
        "    min_resources='exhaust',\n",
        "    max_resources='auto'\n",
        ")\n",
        "halving_search_rf.fit(X_train, y_train)\n",
        "end_time_halving = time.time()\n"
      ],
      "metadata": {
        "id": "LPAqeFApe4vu"
      },
      "execution_count": null,
      "outputs": []
    },
    {
      "cell_type": "code",
      "source": [
        "print(\"Time taken for HalvingGridSearchCV: {:.2f} seconds\".format(end_time_halving - start_time_halving))\n",
        "print(\"Best parameters for HalvingGridSearchCV + KNNImputer + RandomForestRegressor:\", halving_search_rf.best_params_, \"best score:\", -halving_search_rf.best_score_)\n"
      ],
      "metadata": {
        "id": "viON8Dwie1Lf"
      },
      "execution_count": null,
      "outputs": []
    },
    {
      "cell_type": "markdown",
      "source": [
        "Optuna\n"
      ],
      "metadata": {
        "id": "wZbFkdNrzi2X"
      }
    },
    {
      "cell_type": "markdown",
      "source": [
        "Since in the previous we have seen that min_sample split is 5 we will expand the search from 2 to 8."
      ],
      "metadata": {
        "id": "jGJpAc4tIlie"
      }
    },
    {
      "cell_type": "code",
      "source": [
        "# Objective function for Optuna\n",
        "def objective(trial):\n",
        "    knn_neighbors = trial.suggest_int('imputation__n_neighbors', 5, 7)\n",
        "    rf_max_depth = trial.suggest_int('regressor__max_depth', 6, 10)\n",
        "    rf_n_estimators = trial.suggest_int('regressor__n_estimators', 50, 200)\n",
        "    rf_min_samples_split  = trial.suggest_int('regressor__min_samples_split',2,8)\n",
        "\n",
        "    pipeline_rf_optuna = Pipeline([\n",
        "        ('imputation', KNNImputer(n_neighbors=knn_neighbors)),\n",
        "        ('regressor', RandomForestRegressor(max_depth=rf_max_depth, n_estimators=rf_n_estimators, random_state=rs, max_features='log2', min_samples_split = rf_min_samples_split))\n",
        "    ])\n",
        "\n",
        "    start_time_optuna = time.time()\n",
        "    scores = -cross_val_score(pipeline_rf_optuna, X_train, y_train, cv=inner, scoring='neg_median_absolute_error', n_jobs=-1)\n",
        "    end_time_optuna = time.time()\n",
        "    print(\"Time taken for Optuna: {:.2f} seconds\".format(end_time_optuna - start_time_optuna))\n",
        "    return scores.mean()\n"
      ],
      "metadata": {
        "id": "6cfZn7olzEkG"
      },
      "execution_count": null,
      "outputs": []
    },
    {
      "cell_type": "markdown",
      "source": [
        "The budget we have set the same budget as in Random search."
      ],
      "metadata": {
        "id": "KIZyF9_il2gN"
      }
    },
    {
      "cell_type": "code",
      "source": [
        "budget = 50\n",
        "# Create the Optuna study and optimize\n",
        "study = optuna.create_study(direction='minimize')\n",
        "start_time_optuna_global = time.time()\n",
        "study.optimize(objective, n_trials=budget)\n",
        "end_time_optuna_global = time.time()"
      ],
      "metadata": {
        "id": "m90x6EsIzcTL"
      },
      "execution_count": null,
      "outputs": []
    },
    {
      "cell_type": "code",
      "source": [
        "print(\"Total time taken for Optuna: {:.2f} seconds\".format(end_time_optuna_global - start_time_optuna_global))\n",
        "best_params_optuna = study.best_params\n",
        "print(\"Best parameters for Optuna + KNNImputer + RandomForestRegressor:\", best_params_optuna, \"with score: \", study.best_value)"
      ],
      "metadata": {
        "id": "jswAyJDp1oBk"
      },
      "execution_count": null,
      "outputs": []
    },
    {
      "cell_type": "markdown",
      "source": [
        "## Conclusions and results"
      ],
      "metadata": {
        "id": "r2MsRLmjIN07"
      }
    },
    {
      "cell_type": "markdown",
      "source": [
        "*Previous considerations:* For the method of gradient boosting we have decided to include the parameter max_features = log2. This decision was made because the time of execution of a single model was reduced greatly and the total execution time of the gridsearch went from close to 10 hours to 40 minutes and the result obtained was improved.\n",
        "\n",
        "The results of the gridsearch for best model parameters and best imputer are the following:"
      ],
      "metadata": {
        "id": "Lg9usSpgP7KZ"
      }
    },
    {
      "cell_type": "markdown",
      "source": [
        "|   |Time (sec) | Median absolute error|  Simple imputer parameters |Model parameters |\n",
        "| --- | --- | --- | --- | --- |\n",
        "| Decision trees |138.8| 196.08 |mean|depth:8, minsplit:7|\n",
        "| Knn Regressor | 13| 230.16|mean|neighbours:7, distance:manhattan|\n",
        "| Random Forest | 3001 | 199.2|mean| depth: 8, minsplit:9, num estimators: 50|\n",
        "| Gradient Boosted | 266 | 192.8 |mean| num estimators: 100,  learning rate:0.2, max depth: 6 max features: log2 |\n",
        "\n"
      ],
      "metadata": {
        "id": "XnbyftJNPQOx"
      }
    },
    {
      "cell_type": "markdown",
      "source": [
        "|   | Time (sec) |Median Absolute error |KNN imputer parameters | Model parameters |\n",
        "| --- | --- | --- | --- | --- |\n",
        "| Decision trees | 3011 | 196.3 | k=3 |max depth:7, min sample split:5|\n",
        "| Knn Regressor | 1677| 218.59| k=3| metric:euclidean, neighbours: 3 |\n",
        "| Random Forest | 35700 | **192.23** |k=7| max depth:7, min sample split:5, n estimators:50|\n",
        "| Gradient Boosted | 2436 | **171.38** |  k=5 | learning rate:0.1, max depth:6, max features: log2, n estimators: 100 |"
      ],
      "metadata": {
        "id": "jBCsk4knQGZ1"
      }
    },
    {
      "cell_type": "markdown",
      "source": [
        "Looking at the results we can conclude that the KnnImputer is better than the simple imputer, so we will only use this imputer in the future.\n",
        "\n",
        "Since the best two models have shown to be the Gradient Boosting tree with a score of 171.38 and Random forest with a score of 192.23 we have decided to experiment with other HPO techniques (Random Search, Halving search and Optuna). Here we show the results we have obtained.\n",
        "\n",
        "| RANDOM FOREST  | Time (sec) |Median Absolute error |KNN imputer parameters | Model parameters |\n",
        "| --- | --- | --- | --- | --- |\n",
        "| GRIDSEARCH| 35700 | **192.23** |k=7| max depth:7, min sample split:5, n estimators:50|\n",
        "| RANDOM SEARCH | 1409 | 218.06 |k=7| max depth:None , min sample split:5, n estimators:100|\n",
        "| HALVING SEARCH | 510 | 207 |k=7| max depth:9 , min sample split:5, n estimators:200|\n",
        "| OPTUNA | 1757 | 208.34 |k=6| max depth:10 , min sample split:2, n estimators:88|\n",
        "\n",
        "\n",
        "| GRADIENT BOOSTING  | Time (sec) |Median Absolute error |KNN imputer parameters | Model parameters |\n",
        "| --- | --- | --- | --- | --- |\n",
        "|GRID SEARCH | 2436 | **171.38** |  k=5 | learning rate:0.1, max depth:6, max features: log2, n estimators: 100 |\n",
        "|RANDOM SEARCH | 2179 | 185.84|  k=5 | learning rate:0.2, max depth:8, max features: log2, n estimators: 50 |\n",
        "|HALVING SEARCH | 353 | 215.86 |  k=5 | learning rate:0.15, max depth:9, max features: log2, n estimators: 50 |\n",
        "|OPTUNA | 1667.7 | 175.57 |  k=7 | learning rate:0.091, max depth:8, max features: log2, n estimators: 121 |\n"
      ],
      "metadata": {
        "id": "XJiaqnltOTS9"
      }
    },
    {
      "cell_type": "markdown",
      "source": [
        "The best score is still, as expected the one obtained using GridSearch, although we observe that the Optuna method arrives to a similar error and the timing of execution is reduced by almost one third. In the future it would be recomended to use Optuna as searching method for its capabilities and timing.\n",
        "\n",
        "Moreover, Optuna allows to explore a much bigger search space that it would be impossible to study using gridsearch due to the computational time it would required.\n"
      ],
      "metadata": {
        "id": "mdQCD3hhIRdt"
      }
    },
    {
      "cell_type": "markdown",
      "source": [
        "Comparing these results to the ones obtained using the default hyperparameters in the first section, we conclude that the HPO methods are essential for obtaining good results."
      ],
      "metadata": {
        "id": "1SoPiJP8YEhH"
      }
    },
    {
      "cell_type": "markdown",
      "source": [
        "# Using ChatGPT:\n",
        " For this project we have used ChatGPT mainly on code assistance. In some cases if we encountered challenges or errors in our code, we were able to use ChatGPT to describe the issue, share relevant code snippets, and ask for guidance on potential solutions or debugging strategies. This wasn't always helpful since it doesn't have specific knowledge of our project details or data. Another useful thing was to seek for code suggestions. For example when wanting to filter the data columns by name, it gave us a way of reading the features and selecting the ones with a specific ending or begining. In other cases this wasn't a particularly helpful tool since sometimes it would create a code that used invented libraries or a code that coun't apply to our data.\n",
        "\n",
        " One tool that ChatGPT has provided us is aid for repetitive coding. For example, we provided the first pipeline for the first method as well as the grid search parameters for the new method we were interesed in. We asked for a new pipeline that changed the regressor and it was able to give us the correct code."
      ],
      "metadata": {
        "id": "J0O7e2GufMAB"
      }
    },
    {
      "cell_type": "markdown",
      "source": [
        "# New topic: SVM\n",
        "We have decided to try a new model: a support vector machine. In order to see if the result is better than the ensemble methods we have perform HPO to seek for the best model. The result and hyperparameters can be seen below. It performs worse than out best model."
      ],
      "metadata": {
        "id": "1uL9Qg59ZW7r"
      }
    },
    {
      "cell_type": "code",
      "source": [
        "# Initialize and fit KNNImputer on training data\n",
        "imputer = KNNImputer(n_neighbors=5)  # Adjust n_neighbors as needed\n",
        "X_train_imputed_svm = imputer.fit_transform(X_train)\n",
        "X_test_imputed_svm = imputer.transform(X_test)"
      ],
      "metadata": {
        "id": "SMPgOd6teDlr"
      },
      "execution_count": 48,
      "outputs": []
    },
    {
      "cell_type": "code",
      "source": [
        "# Define the parameter grid for SVM\n",
        "param_grid_svm = {\n",
        "    'kernel': ['linear', 'rbf'],\n",
        "    'C': [0.1, 1, 10],\n",
        "    'gamma': ['scale', 'auto']\n",
        "}\n",
        "\n",
        "# Create SVR model\n",
        "svr = SVR()\n",
        "\n",
        "# Initialize GridSearchCV\n",
        "grid_search = GridSearchCV(svr, param_grid_svm, cv=5, scoring='neg_median_absolute_error')\n",
        "\n",
        "# Fit GridSearchCV to your data\n",
        "grid_search.fit(X_train_imputed_svm, y_train)\n",
        "\n",
        "# Get best parameters and best estimator\n",
        "best_params = grid_search.best_params_\n",
        "best_estimator = grid_search.best_estimator_\n",
        "\n",
        "# Make predictions on the test set using the best estimator\n",
        "predictions = best_estimator.predict(X_test_imputed_svm)\n",
        "\n"
      ],
      "metadata": {
        "id": "YXgCrUSDZZqx"
      },
      "execution_count": null,
      "outputs": []
    },
    {
      "cell_type": "code",
      "source": [
        "# Evaluate the performance of the model using Mean Squared Error (MSE)\n",
        "mse = median_absolute_error(y_test, predictions)\n",
        "print(f\"Median Absolute Error with best estimator: {mse:.2f}\")\n",
        "print(\"Best parameters:\", best_params)"
      ],
      "metadata": {
        "colab": {
          "base_uri": "https://localhost:8080/"
        },
        "id": "OBXavR3Mfd_1",
        "outputId": "3a8a3f8f-8772-4910-f177-4834c5b19ccd"
      },
      "execution_count": null,
      "outputs": [
        {
          "output_type": "stream",
          "name": "stdout",
          "text": [
            "Median Absolute Error with best estimator: 269.64\n",
            "Best parameters: {'C': 10, 'gamma': 'auto', 'kernel': 'rbf'}\n"
          ]
        }
      ]
    },
    {
      "cell_type": "markdown",
      "source": [
        "# Final model"
      ],
      "metadata": {
        "id": "vxvE4YNoXH1K"
      }
    },
    {
      "cell_type": "markdown",
      "source": [
        " The best result was obtained using gridsearch and it was the following:\n",
        "\n",
        " *Best parameters for KNNImputer + GradientBoostingRegressor: {'imputation_n_neighbors': 5, 'regressorlearning_rate': 0.1, 'regressormax_depth': 6, 'regressormax_features': 'log2', 'regressor_n_estimators': 100} score:  171.38532*"
      ],
      "metadata": {
        "id": "I5-craSeW9KK"
      }
    },
    {
      "cell_type": "markdown",
      "source": [
        " For the imputation of the testing data set we will be using the Knn imputation with 5 neighbours."
      ],
      "metadata": {
        "id": "pzxYLGWW_Jg8"
      }
    },
    {
      "cell_type": "code",
      "source": [
        "#Best parameters\n",
        "best_imputer_params = {'n_neighbors': 5}\n",
        "best_regressor_params = {'learning_rate':0.1,\n",
        "                         'max_depth': 6,\n",
        "                         'max_features': 'log2',\n",
        "                         'n_estimators': 100}"
      ],
      "metadata": {
        "id": "N5VRUv3-_Bkg"
      },
      "execution_count": 49,
      "outputs": []
    },
    {
      "cell_type": "code",
      "source": [
        "#Imputing the testing data\n",
        "best_imputer = KNNImputer(**best_imputer_params)\n",
        "best_regressor = GradientBoostingRegressor(random_state = rs, **best_regressor_params)\n",
        "\n",
        "pipeline = Pipeline([\n",
        "    ('imputation', best_imputer),\n",
        "    ('regressor', best_regressor)\n",
        "])\n",
        "\n",
        "# Fit the imputer on the training data\n",
        "best_imputer.fit(X_train)\n",
        "# Name of the columns of our data set\n",
        "column_names = df.columns.to_list()\n",
        "columns_to_remove = [i for i, name in enumerate(column_names) if name.startswith(tuple(prefixes_to_remove))]\n",
        "remaining_columns = [col for i, col in enumerate(column_names) if i not in columns_to_remove]"
      ],
      "metadata": {
        "id": "1BAG9aUdBfe-"
      },
      "execution_count": 50,
      "outputs": []
    },
    {
      "cell_type": "code",
      "source": [
        "#Fit the regressor\n",
        "X_train_imputed_features = pipeline.named_steps['imputation'].transform(X_train)\n",
        "best_regressor.fit(X_train_imputed_features, y_train)\n"
      ],
      "metadata": {
        "id": "cO_KTgxSLfYk",
        "colab": {
          "base_uri": "https://localhost:8080/",
          "height": 92
        },
        "outputId": "3b252991-9f4c-40c4-d9b7-ebecc795541d"
      },
      "execution_count": 55,
      "outputs": [
        {
          "output_type": "execute_result",
          "data": {
            "text/plain": [
              "GradientBoostingRegressor(max_depth=6, max_features='log2',\n",
              "                          random_state=100505730)"
            ],
            "text/html": [
              "<style>#sk-container-id-4 {color: black;background-color: white;}#sk-container-id-4 pre{padding: 0;}#sk-container-id-4 div.sk-toggleable {background-color: white;}#sk-container-id-4 label.sk-toggleable__label {cursor: pointer;display: block;width: 100%;margin-bottom: 0;padding: 0.3em;box-sizing: border-box;text-align: center;}#sk-container-id-4 label.sk-toggleable__label-arrow:before {content: \"▸\";float: left;margin-right: 0.25em;color: #696969;}#sk-container-id-4 label.sk-toggleable__label-arrow:hover:before {color: black;}#sk-container-id-4 div.sk-estimator:hover label.sk-toggleable__label-arrow:before {color: black;}#sk-container-id-4 div.sk-toggleable__content {max-height: 0;max-width: 0;overflow: hidden;text-align: left;background-color: #f0f8ff;}#sk-container-id-4 div.sk-toggleable__content pre {margin: 0.2em;color: black;border-radius: 0.25em;background-color: #f0f8ff;}#sk-container-id-4 input.sk-toggleable__control:checked~div.sk-toggleable__content {max-height: 200px;max-width: 100%;overflow: auto;}#sk-container-id-4 input.sk-toggleable__control:checked~label.sk-toggleable__label-arrow:before {content: \"▾\";}#sk-container-id-4 div.sk-estimator input.sk-toggleable__control:checked~label.sk-toggleable__label {background-color: #d4ebff;}#sk-container-id-4 div.sk-label input.sk-toggleable__control:checked~label.sk-toggleable__label {background-color: #d4ebff;}#sk-container-id-4 input.sk-hidden--visually {border: 0;clip: rect(1px 1px 1px 1px);clip: rect(1px, 1px, 1px, 1px);height: 1px;margin: -1px;overflow: hidden;padding: 0;position: absolute;width: 1px;}#sk-container-id-4 div.sk-estimator {font-family: monospace;background-color: #f0f8ff;border: 1px dotted black;border-radius: 0.25em;box-sizing: border-box;margin-bottom: 0.5em;}#sk-container-id-4 div.sk-estimator:hover {background-color: #d4ebff;}#sk-container-id-4 div.sk-parallel-item::after {content: \"\";width: 100%;border-bottom: 1px solid gray;flex-grow: 1;}#sk-container-id-4 div.sk-label:hover label.sk-toggleable__label {background-color: #d4ebff;}#sk-container-id-4 div.sk-serial::before {content: \"\";position: absolute;border-left: 1px solid gray;box-sizing: border-box;top: 0;bottom: 0;left: 50%;z-index: 0;}#sk-container-id-4 div.sk-serial {display: flex;flex-direction: column;align-items: center;background-color: white;padding-right: 0.2em;padding-left: 0.2em;position: relative;}#sk-container-id-4 div.sk-item {position: relative;z-index: 1;}#sk-container-id-4 div.sk-parallel {display: flex;align-items: stretch;justify-content: center;background-color: white;position: relative;}#sk-container-id-4 div.sk-item::before, #sk-container-id-4 div.sk-parallel-item::before {content: \"\";position: absolute;border-left: 1px solid gray;box-sizing: border-box;top: 0;bottom: 0;left: 50%;z-index: -1;}#sk-container-id-4 div.sk-parallel-item {display: flex;flex-direction: column;z-index: 1;position: relative;background-color: white;}#sk-container-id-4 div.sk-parallel-item:first-child::after {align-self: flex-end;width: 50%;}#sk-container-id-4 div.sk-parallel-item:last-child::after {align-self: flex-start;width: 50%;}#sk-container-id-4 div.sk-parallel-item:only-child::after {width: 0;}#sk-container-id-4 div.sk-dashed-wrapped {border: 1px dashed gray;margin: 0 0.4em 0.5em 0.4em;box-sizing: border-box;padding-bottom: 0.4em;background-color: white;}#sk-container-id-4 div.sk-label label {font-family: monospace;font-weight: bold;display: inline-block;line-height: 1.2em;}#sk-container-id-4 div.sk-label-container {text-align: center;}#sk-container-id-4 div.sk-container {/* jupyter's `normalize.less` sets `[hidden] { display: none; }` but bootstrap.min.css set `[hidden] { display: none !important; }` so we also need the `!important` here to be able to override the default hidden behavior on the sphinx rendered scikit-learn.org. See: https://github.com/scikit-learn/scikit-learn/issues/21755 */display: inline-block !important;position: relative;}#sk-container-id-4 div.sk-text-repr-fallback {display: none;}</style><div id=\"sk-container-id-4\" class=\"sk-top-container\"><div class=\"sk-text-repr-fallback\"><pre>GradientBoostingRegressor(max_depth=6, max_features=&#x27;log2&#x27;,\n",
              "                          random_state=100505730)</pre><b>In a Jupyter environment, please rerun this cell to show the HTML representation or trust the notebook. <br />On GitHub, the HTML representation is unable to render, please try loading this page with nbviewer.org.</b></div><div class=\"sk-container\" hidden><div class=\"sk-item\"><div class=\"sk-estimator sk-toggleable\"><input class=\"sk-toggleable__control sk-hidden--visually\" id=\"sk-estimator-id-4\" type=\"checkbox\" checked><label for=\"sk-estimator-id-4\" class=\"sk-toggleable__label sk-toggleable__label-arrow\">GradientBoostingRegressor</label><div class=\"sk-toggleable__content\"><pre>GradientBoostingRegressor(max_depth=6, max_features=&#x27;log2&#x27;,\n",
              "                          random_state=100505730)</pre></div></div></div></div></div>"
            ]
          },
          "metadata": {},
          "execution_count": 55
        }
      ]
    },
    {
      "cell_type": "code",
      "source": [
        "#Imputation of the testing set\n",
        "X_test_imputed = pipeline.named_steps['imputation'].transform(X_test)\n",
        "\n",
        "X_test_imputed = pd.DataFrame(X_test_imputed, columns=remaining_columns[1:])\n",
        "\n",
        "y_test_pred = pipeline.named_steps['regressor'].predict(X_test_imputed)"
      ],
      "metadata": {
        "colab": {
          "base_uri": "https://localhost:8080/"
        },
        "id": "9h75RB8lFkIm",
        "outputId": "ae4413bb-0ee0-4c61-b378-3522968bcf42"
      },
      "execution_count": 56,
      "outputs": [
        {
          "output_type": "stream",
          "name": "stderr",
          "text": [
            "/usr/local/lib/python3.10/dist-packages/sklearn/base.py:432: UserWarning: X has feature names, but GradientBoostingRegressor was fitted without feature names\n",
            "  warnings.warn(\n"
          ]
        }
      ]
    },
    {
      "cell_type": "markdown",
      "source": [
        "Estimation of future performance"
      ],
      "metadata": {
        "id": "vYPG2OWjcH_L"
      }
    },
    {
      "cell_type": "code",
      "source": [
        "medae = median_absolute_error(y_test, y_test_pred)\n",
        "# Now, 'medae' contains the median absolute error\n",
        "print(\"Median Absolute Error:\", medae)"
      ],
      "metadata": {
        "id": "xCH7XR6OM1Qr"
      },
      "execution_count": null,
      "outputs": []
    },
    {
      "cell_type": "markdown",
      "source": [
        "Median Absolute Error: 257.63"
      ],
      "metadata": {
        "id": "_MeMh1wpka8e"
      }
    },
    {
      "cell_type": "markdown",
      "source": [
        "To make sure that the predictions made with the model make sense we have decided to study the distribution. We observe that it is similar shape to the original energy ditribution, so we"
      ],
      "metadata": {
        "id": "ZGWyY-9fdKnK"
      }
    },
    {
      "cell_type": "code",
      "source": [
        "# Plotting a histogram\n",
        "plt.figure(figsize=(8, 6))\n",
        "plt.hist(y_test_pred, bins=30, color='skyblue', edgecolor='black')\n",
        "plt.title('Histogram of energy')\n",
        "plt.xlabel('Energy values')\n",
        "plt.ylabel('Frequency')\n",
        "plt.show()"
      ],
      "metadata": {
        "colab": {
          "base_uri": "https://localhost:8080/",
          "height": 564
        },
        "id": "Qs0ztr9ic8zP",
        "outputId": "e600d5f5-4034-499a-e5f9-57475b93e0af"
      },
      "execution_count": 58,
      "outputs": [
        {
          "output_type": "display_data",
          "data": {
            "text/plain": [
              "<Figure size 800x600 with 1 Axes>"
            ],
            "image/png": "[encoded data removed]"
          },
          "metadata": {}
        }
      ]
    },
    {
      "cell_type": "markdown",
      "source": [
        "We will train the model with the entire data set."
      ],
      "metadata": {
        "id": "kVwBAOTzcLcb"
      }
    },
    {
      "cell_type": "code",
      "source": [
        "X_train= pd.DataFrame(X_train_imputed_features, columns=remaining_columns[1:])\n",
        "data = pd.concat([X_train, X_test_imputed])\n",
        "y_train = pd.DataFrame(y_train)\n",
        "y_test = pd.DataFrame(y_test)\n",
        "y = pd.concat([y_train, y_test])"
      ],
      "metadata": {
        "id": "UIG3p1hEXiEQ"
      },
      "execution_count": null,
      "outputs": []
    },
    {
      "cell_type": "code",
      "source": [
        "best_imputer.fit(data)\n",
        "best_regressor.fit(data, y)"
      ],
      "metadata": {
        "colab": {
          "base_uri": "https://localhost:8080/",
          "height": 148
        },
        "id": "DB5UIvGoK6K5",
        "outputId": "4e15fc00-fdfd-47f1-9bdb-ad9adaa3a1cf"
      },
      "execution_count": null,
      "outputs": [
        {
          "output_type": "stream",
          "name": "stderr",
          "text": [
            "/usr/local/lib/python3.10/dist-packages/sklearn/ensemble/_gb.py:437: DataConversionWarning: A column-vector y was passed when a 1d array was expected. Please change the shape of y to (n_samples, ), for example using ravel().\n",
            "  y = column_or_1d(y, warn=True)\n"
          ]
        },
        {
          "output_type": "execute_result",
          "data": {
            "text/plain": [
              "GradientBoostingRegressor(max_depth=6, max_features='log2',\n",
              "                          random_state=100505730)"
            ],
            "text/html": [
              "<style>#sk-container-id-8 {color: black;background-color: white;}#sk-container-id-8 pre{padding: 0;}#sk-container-id-8 div.sk-toggleable {background-color: white;}#sk-container-id-8 label.sk-toggleable__label {cursor: pointer;display: block;width: 100%;margin-bottom: 0;padding: 0.3em;box-sizing: border-box;text-align: center;}#sk-container-id-8 label.sk-toggleable__label-arrow:before {content: \"▸\";float: left;margin-right: 0.25em;color: #696969;}#sk-container-id-8 label.sk-toggleable__label-arrow:hover:before {color: black;}#sk-container-id-8 div.sk-estimator:hover label.sk-toggleable__label-arrow:before {color: black;}#sk-container-id-8 div.sk-toggleable__content {max-height: 0;max-width: 0;overflow: hidden;text-align: left;background-color: #f0f8ff;}#sk-container-id-8 div.sk-toggleable__content pre {margin: 0.2em;color: black;border-radius: 0.25em;background-color: #f0f8ff;}#sk-container-id-8 input.sk-toggleable__control:checked~div.sk-toggleable__content {max-height: 200px;max-width: 100%;overflow: auto;}#sk-container-id-8 input.sk-toggleable__control:checked~label.sk-toggleable__label-arrow:before {content: \"▾\";}#sk-container-id-8 div.sk-estimator input.sk-toggleable__control:checked~label.sk-toggleable__label {background-color: #d4ebff;}#sk-container-id-8 div.sk-label input.sk-toggleable__control:checked~label.sk-toggleable__label {background-color: #d4ebff;}#sk-container-id-8 input.sk-hidden--visually {border: 0;clip: rect(1px 1px 1px 1px);clip: rect(1px, 1px, 1px, 1px);height: 1px;margin: -1px;overflow: hidden;padding: 0;position: absolute;width: 1px;}#sk-container-id-8 div.sk-estimator {font-family: monospace;background-color: #f0f8ff;border: 1px dotted black;border-radius: 0.25em;box-sizing: border-box;margin-bottom: 0.5em;}#sk-container-id-8 div.sk-estimator:hover {background-color: #d4ebff;}#sk-container-id-8 div.sk-parallel-item::after {content: \"\";width: 100%;border-bottom: 1px solid gray;flex-grow: 1;}#sk-container-id-8 div.sk-label:hover label.sk-toggleable__label {background-color: #d4ebff;}#sk-container-id-8 div.sk-serial::before {content: \"\";position: absolute;border-left: 1px solid gray;box-sizing: border-box;top: 0;bottom: 0;left: 50%;z-index: 0;}#sk-container-id-8 div.sk-serial {display: flex;flex-direction: column;align-items: center;background-color: white;padding-right: 0.2em;padding-left: 0.2em;position: relative;}#sk-container-id-8 div.sk-item {position: relative;z-index: 1;}#sk-container-id-8 div.sk-parallel {display: flex;align-items: stretch;justify-content: center;background-color: white;position: relative;}#sk-container-id-8 div.sk-item::before, #sk-container-id-8 div.sk-parallel-item::before {content: \"\";position: absolute;border-left: 1px solid gray;box-sizing: border-box;top: 0;bottom: 0;left: 50%;z-index: -1;}#sk-container-id-8 div.sk-parallel-item {display: flex;flex-direction: column;z-index: 1;position: relative;background-color: white;}#sk-container-id-8 div.sk-parallel-item:first-child::after {align-self: flex-end;width: 50%;}#sk-container-id-8 div.sk-parallel-item:last-child::after {align-self: flex-start;width: 50%;}#sk-container-id-8 div.sk-parallel-item:only-child::after {width: 0;}#sk-container-id-8 div.sk-dashed-wrapped {border: 1px dashed gray;margin: 0 0.4em 0.5em 0.4em;box-sizing: border-box;padding-bottom: 0.4em;background-color: white;}#sk-container-id-8 div.sk-label label {font-family: monospace;font-weight: bold;display: inline-block;line-height: 1.2em;}#sk-container-id-8 div.sk-label-container {text-align: center;}#sk-container-id-8 div.sk-container {/* jupyter's `normalize.less` sets `[hidden] { display: none; }` but bootstrap.min.css set `[hidden] { display: none !important; }` so we also need the `!important` here to be able to override the default hidden behavior on the sphinx rendered scikit-learn.org. See: https://github.com/scikit-learn/scikit-learn/issues/21755 */display: inline-block !important;position: relative;}#sk-container-id-8 div.sk-text-repr-fallback {display: none;}</style><div id=\"sk-container-id-8\" class=\"sk-top-container\"><div class=\"sk-text-repr-fallback\"><pre>GradientBoostingRegressor(max_depth=6, max_features=&#x27;log2&#x27;,\n",
              "                          random_state=100505730)</pre><b>In a Jupyter environment, please rerun this cell to show the HTML representation or trust the notebook. <br />On GitHub, the HTML representation is unable to render, please try loading this page with nbviewer.org.</b></div><div class=\"sk-container\" hidden><div class=\"sk-item\"><div class=\"sk-estimator sk-toggleable\"><input class=\"sk-toggleable__control sk-hidden--visually\" id=\"sk-estimator-id-8\" type=\"checkbox\" checked><label for=\"sk-estimator-id-8\" class=\"sk-toggleable__label sk-toggleable__label-arrow\">GradientBoostingRegressor</label><div class=\"sk-toggleable__content\"><pre>GradientBoostingRegressor(max_depth=6, max_features=&#x27;log2&#x27;,\n",
              "                          random_state=100505730)</pre></div></div></div></div></div>"
            ]
          },
          "metadata": {},
          "execution_count": 64
        }
      ]
    },
    {
      "cell_type": "code",
      "source": [
        "pred = best_regressor.predict(data)"
      ],
      "metadata": {
        "id": "Dq_GHX27UAVW"
      },
      "execution_count": null,
      "outputs": []
    },
    {
      "cell_type": "code",
      "source": [
        "# Plotting a histogram\n",
        "plt.figure(figsize=(8, 6))\n",
        "plt.hist(pred, bins=30, color='skyblue', edgecolor='black')\n",
        "plt.title('Histogram of energy')\n",
        "plt.xlabel('Energy values')\n",
        "plt.ylabel('Frequency')\n",
        "plt.show()"
      ],
      "metadata": {
        "colab": {
          "base_uri": "https://localhost:8080/",
          "height": 564
        },
        "id": "AE--N9nTUJFf",
        "outputId": "b3bf508d-b56f-4791-acb9-f9aec2c2ba8e"
      },
      "execution_count": null,
      "outputs": [
        {
          "output_type": "display_data",
          "data": {
            "text/plain": [
              "<Figure size 800x600 with 1 Axes>"
            ],
            "image/png": "[encoded data removed]"
          },
          "metadata": {}
        }
      ]
    },
    {
      "cell_type": "markdown",
      "source": [
        "We oberve that the distribution behaves as expected."
      ],
      "metadata": {
        "id": "2aXhOQFtcUtC"
      }
    },
    {
      "cell_type": "markdown",
      "source": [
        "Saving the model"
      ],
      "metadata": {
        "id": "sITIis5-L-5r"
      }
    },
    {
      "cell_type": "code",
      "source": [
        "# save the model to disk\n",
        "filename = 'finalized_model.sav'\n",
        "pickle.dump(best_regressor, open(filename, 'wb'))"
      ],
      "metadata": {
        "id": "fEbcSkELLx38"
      },
      "execution_count": null,
      "outputs": []
    },
    {
      "cell_type": "markdown",
      "source": [
        "# Competition data\n",
        "Once we have trained the final moedl we wil make predictions using the competition data set."
      ],
      "metadata": {
        "id": "GJVxRbIwMjfJ"
      }
    },
    {
      "cell_type": "code",
      "source": [
        "competition = pd.read_csv(PATH+'wind_competition.csv.gzip', compression=\"gzip\")\n",
        "competition = competition.to_numpy()"
      ],
      "metadata": {
        "id": "D3nCmCuWNIDT"
      },
      "execution_count": null,
      "outputs": []
    },
    {
      "cell_type": "code",
      "source": [
        "# Define prefixes to remove\n",
        "prefixes_to_remove = ['p55.', 'year', 'flsr']\n",
        "\n",
        "# Get indices of columns to remove based on prefixes\n",
        "columns_to_remove = [i for i, name in enumerate(column_names) if name.startswith(tuple(prefixes_to_remove))]\n",
        "competition_del = np.delete(competition, columns_to_remove, axis=1)\n",
        "competition_scale = scaler.fit_transform(competition_del)\n",
        "comp_imputed = pipeline.named_steps['imputation'].transform(competition_scale)\n",
        "predictions = best_regressor.predict(comp_imputed)"
      ],
      "metadata": {
        "id": "VPmgQX_4NUEY"
      },
      "execution_count": null,
      "outputs": []
    },
    {
      "cell_type": "code",
      "source": [
        "# Plotting a histogram\n",
        "plt.figure(figsize=(8, 6))\n",
        "plt.hist(predictions, bins=30, color='skyblue', edgecolor='black')\n",
        "plt.title('Histogram of energy')\n",
        "plt.xlabel('Energy values')\n",
        "plt.ylabel('Frequency')\n",
        "plt.show()"
      ],
      "metadata": {
        "colab": {
          "base_uri": "https://localhost:8080/",
          "height": 564
        },
        "id": "RDxg88A6TYPA",
        "outputId": "5cdcbd0b-2719-4d3e-a32f-664dfe1590c9"
      },
      "execution_count": null,
      "outputs": [
        {
          "output_type": "display_data",
          "data": {
            "text/plain": [
              "<Figure size 800x600 with 1 Axes>"
            ],
            "image/png": "[encoded data removed]"
          },
          "metadata": {}
        }
      ]
    },
    {
      "cell_type": "markdown",
      "source": [
        "We see that the distribution of energy we obtain behaves similarly to the original energy distribution, so we could expect that the predictions obtained are reasonable in the context of this problem."
      ],
      "metadata": {
        "id": "IxL391_rk7BI"
      }
    },
    {
      "cell_type": "markdown",
      "source": [
        "We will save the predictions and the model separately."
      ],
      "metadata": {
        "id": "AxRfggQJlJAi"
      }
    },
    {
      "cell_type": "code",
      "source": [
        "#saving predictions to a txt file\n",
        "# File path where you want to save the predictions\n",
        "file_path = 'predictions.txt'\n",
        "\n",
        "# Open the file in write mode and save predictions line by line\n",
        "with open(file_path, 'w') as file:\n",
        "    for prediction in predictions:\n",
        "        file.write(f'{prediction}\\n')"
      ],
      "metadata": {
        "id": "tkwqo4PLVd3H"
      },
      "execution_count": null,
      "outputs": []
    }
  ]
}